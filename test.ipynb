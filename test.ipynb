{
 "cells": [
  {
   "cell_type": "code",
   "execution_count": 1,
   "metadata": {
    "slideshow": {
     "slide_type": "skip"
    },
    "vscode": {
     "languageId": "julia"
    }
   },
   "outputs": [
    {
     "data": {
      "text/plain": [
       "ConstraintSolver"
      ]
     },
     "execution_count": 1,
     "metadata": {},
     "output_type": "execute_result"
    }
   ],
   "source": [
    "using JuMP, ConstraintSolver\n",
    "const CS = ConstraintSolver"
   ]
  },
  {
   "cell_type": "markdown",
   "metadata": {
    "slideshow": {
     "slide_type": "slide"
    }
   },
   "source": [
    "# Introduction"
   ]
  },
  {
   "cell_type": "markdown",
   "metadata": {
    "slideshow": {
     "slide_type": "slide"
    }
   },
   "source": [
    "## Variable\n",
    "\n",
    "Variable $v$ has defined domain $D$ of possible values. Modern constraint solvers handle following domains:\n",
    "\n",
    "* discrete domains, e.g $\\{1,2,3,4\\}$\n",
    "* real value domainds, e.g $[0,10]+[15,20]$\n",
    "* subsets of a set, e.g. $\\{ \\{1\\}, \\{1,2\\}, \\{3,5\\} \\}$"
   ]
  },
  {
   "cell_type": "markdown",
   "metadata": {
    "slideshow": {
     "slide_type": "subslide"
    }
   },
   "source": [
    "In the example we create variable $x$ that has discrete domain of integers $0..9$."
   ]
  },
  {
   "cell_type": "code",
   "execution_count": 92,
   "metadata": {
    "slideshow": {
     "slide_type": "subslide"
    }
   },
   "outputs": [
    {
     "name": "stdout",
     "output_type": "stream",
     "text": [
      "# Variables: 1\n",
      "# Constraints: 0\n",
      "\n",
      "[0, 1, 2, 3, 4, 5, 6, 7, 8, 9]\n"
     ]
    },
    {
     "name": "stderr",
     "output_type": "stream",
     "text": [
      "┌ Info: Backtracking is turned off.\n",
      "└ @ ConstraintSolver /Users/witj/.julia/packages/ConstraintSolver/PGUiU/src/ConstraintSolver.jl:808\n"
     ]
    }
   ],
   "source": [
    "using JuMP, ConstraintSolver\n",
    "const CS = ConstraintSolver\n",
    "\n",
    "m = Model(optimizer_with_attributes(CS.Optimizer, \"backtrack\"=>false))\n",
    "@variable(m, 0 <= x <= 9, Int)\n",
    "optimize!(m)\n",
    "println(CS.values(m, x))"
   ]
  },
  {
   "cell_type": "markdown",
   "metadata": {
    "slideshow": {
     "slide_type": "slide"
    }
   },
   "source": [
    "## Constraint\n",
    "\n",
    "Constraint is a function with variables as arguments. \n",
    "Constraints can be seen as agents that modify domains of their arguments. The modification depends on the logic of given constraint function. The goal is to reduce number of possible values of variable's domain."
   ]
  },
  {
   "cell_type": "markdown",
   "metadata": {
    "slideshow": {
     "slide_type": "subslide"
    }
   },
   "source": [
    "In the example we create a three variables $x$, $y$ and $z$. Variables $x$ and $y$ has $\\{0,..,9\\}$ domain and $z$ has $\\{0,...,18\\}$."
   ]
  },
  {
   "cell_type": "markdown",
   "metadata": {
    "slideshow": {
     "slide_type": "subslide"
    }
   },
   "source": [
    "First we will add the following contraint:\n",
    "* $x+y = z$"
   ]
  },
  {
   "cell_type": "code",
   "execution_count": 104,
   "metadata": {
    "slideshow": {
     "slide_type": "subslide"
    }
   },
   "outputs": [
    {
     "name": "stdout",
     "output_type": "stream",
     "text": [
      "# Variables: 3\n",
      "# Constraints: 1\n",
      " - # Equality: 1\n",
      "\n",
      "x : [0, 1, 2, 3, 4, 5, 6, 7, 8, 9]\n",
      "y : [0, 1, 2, 3, 4, 5, 6, 7, 8, 9]\n"
     ]
    },
    {
     "name": "stderr",
     "output_type": "stream",
     "text": [
      "┌ Info: Backtracking is turned off.\n",
      "└ @ ConstraintSolver /Users/witj/.julia/packages/ConstraintSolver/PGUiU/src/ConstraintSolver.jl:808\n"
     ]
    }
   ],
   "source": [
    "using JuMP, ConstraintSolver\n",
    "const CS = ConstraintSolver\n",
    "\n",
    "m = Model(optimizer_with_attributes(CS.Optimizer, \"backtrack\"=>false))\n",
    "@variable(m, 0 <= x <= 9, Int)\n",
    "@variable(m, 0 <= y <= 9, Int)\n",
    "@variable(m, 0 <= z <= 18, Int)\n",
    "@constraint(m, x + y == z)\n",
    "optimize!(m)\n",
    "println(\"x : \", CS.values(m, x))\n",
    "println(\"y : \", CS.values(m, y))"
   ]
  },
  {
   "cell_type": "markdown",
   "metadata": {
    "slideshow": {
     "slide_type": "subslide"
    }
   },
   "source": [
    "As you can see constraint $==$ cannot deduce any domain reduction."
   ]
  },
  {
   "cell_type": "markdown",
   "metadata": {
    "slideshow": {
     "slide_type": "subslide"
    }
   },
   "source": [
    "Lets add second constraint\n",
    "\n",
    "* $z == 13$"
   ]
  },
  {
   "cell_type": "code",
   "execution_count": 106,
   "metadata": {
    "slideshow": {
     "slide_type": "subslide"
    }
   },
   "outputs": [
    {
     "name": "stdout",
     "output_type": "stream",
     "text": [
      "# Variables: 3\n",
      "# Constraints: 1\n",
      " - # Equality: 1\n",
      "\n",
      "x : [9, 8, 7, 6, 4, 5]\n",
      "y : [9, 8, 7, 6, 4, 5]\n"
     ]
    },
    {
     "name": "stderr",
     "output_type": "stream",
     "text": [
      "┌ Info: Backtracking is turned off.\n",
      "└ @ ConstraintSolver /Users/witj/.julia/packages/ConstraintSolver/PGUiU/src/ConstraintSolver.jl:808\n"
     ]
    }
   ],
   "source": [
    "using JuMP, ConstraintSolver\n",
    "const CS = ConstraintSolver\n",
    "\n",
    "m = Model(optimizer_with_attributes(CS.Optimizer, \"backtrack\"=>false))\n",
    "@variable(m, 0 <= x <= 9, Int)\n",
    "@variable(m, 0 <= y <= 9, Int)\n",
    "@variable(m, 0 <= z <= 18, Int)\n",
    "@constraint(m, z == 13)\n",
    "@constraint(m, x + y == z)\n",
    "optimize!(m)\n",
    "println(\"x : \", CS.values(m, x))\n",
    "println(\"y : \", CS.values(m, y))"
   ]
  },
  {
   "cell_type": "markdown",
   "metadata": {
    "slideshow": {
     "slide_type": "subslide"
    }
   },
   "source": [
    "Constraint $x+y = z$ resulted in domains reduction of both $x$ and $y$. We know that they **must be greater than** 3."
   ]
  }
 ],
 "metadata": {
  "celltoolbar": "Slideshow",
  "kernelspec": {
   "display_name": "Julia 1.7.2",
   "language": "julia",
   "name": "julia-1.7"
  },
  "language_info": {
   "file_extension": ".jl",
   "mimetype": "application/julia",
   "name": "julia",
   "version": "1.7.2"
  }
 },
 "nbformat": 4,
 "nbformat_minor": 2
}
