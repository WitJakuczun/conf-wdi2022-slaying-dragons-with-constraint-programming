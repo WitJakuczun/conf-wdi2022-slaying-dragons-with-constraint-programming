{
 "cells": [
  {
   "cell_type": "markdown",
   "metadata": {
    "slideshow": {
     "slide_type": "slide"
    }
   },
   "source": [
    "![dss-jakuczun](images/Jakuczun.png)"
   ]
  },
  {
   "cell_type": "markdown",
   "metadata": {
    "slideshow": {
     "slide_type": "slide"
    }
   },
   "source": [
    "# Why is optimization important?"
   ]
  },
  {
   "cell_type": "markdown",
   "metadata": {
    "slideshow": {
     "slide_type": "subslide"
    }
   },
   "source": [
    "## What is optimization model?"
   ]
  },
  {
   "cell_type": "markdown",
   "metadata": {
    "slideshow": {
     "slide_type": "subslide"
    }
   },
   "source": [
    "![opt-model](images/opt-model.png)"
   ]
  },
  {
   "cell_type": "markdown",
   "metadata": {
    "slideshow": {
     "slide_type": "subslide"
    }
   },
   "source": [
    "## **recommendation = optimize(forecast)**"
   ]
  },
  {
   "cell_type": "markdown",
   "metadata": {
    "slideshow": {
     "slide_type": "fragment"
    }
   },
   "source": [
    "![opt-value-chain](images/opt-model-value-chain.png)"
   ]
  },
  {
   "cell_type": "markdown",
   "metadata": {
    "slideshow": {
     "slide_type": "slide"
    }
   },
   "source": [
    "# CRM campaign use case"
   ]
  },
  {
   "cell_type": "markdown",
   "metadata": {
    "slideshow": {
     "slide_type": "slide"
    }
   },
   "source": [
    "## What is a business problem we want to solve?"
   ]
  },
  {
   "cell_type": "markdown",
   "metadata": {
    "slideshow": {
     "slide_type": "slide"
    }
   },
   "source": [
    "### Key questions"
   ]
  },
  {
   "cell_type": "markdown",
   "metadata": {
    "slideshow": {
     "slide_type": "slide"
    }
   },
   "source": [
    "#### What should we offer?"
   ]
  },
  {
   "cell_type": "markdown",
   "metadata": {
    "slideshow": {
     "slide_type": "subslide"
    }
   },
   "source": [
    "Company offers **many products/services** to their customers."
   ]
  },
  {
   "cell_type": "markdown",
   "metadata": {
    "slideshow": {
     "slide_type": "slide"
    }
   },
   "source": [
    "#### How should we offer the product?"
   ]
  },
  {
   "cell_type": "markdown",
   "metadata": {
    "slideshow": {
     "slide_type": "subslide"
    }
   },
   "source": [
    "Company uses **different communication channels** to reach their customers. For example: email, phone, www.\n",
    "\n",
    "Company can also decide on time and message when reaching particular customer."
   ]
  },
  {
   "cell_type": "markdown",
   "metadata": {
    "slideshow": {
     "slide_type": "slide"
    }
   },
   "source": [
    "#### Whom should we offert the product?"
   ]
  },
  {
   "cell_type": "markdown",
   "metadata": {
    "slideshow": {
     "slide_type": "subslide"
    }
   },
   "source": [
    "Depending on customer profile (e.g. demography, behavioral profile, etc.)the reaction to the offering for a given product via a given channel can differ."
   ]
  },
  {
   "cell_type": "markdown",
   "metadata": {
    "slideshow": {
     "slide_type": "slide"
    }
   },
   "source": [
    "### Business process"
   ]
  },
  {
   "cell_type": "markdown",
   "metadata": {
    "slideshow": {
     "slide_type": "subslide"
    }
   },
   "source": [
    "![kampania_process](images/cmpgn_process.png)"
   ]
  },
  {
   "cell_type": "markdown",
   "metadata": {
    "slideshow": {
     "slide_type": "subslide"
    }
   },
   "source": [
    "##### Estimating probability of buying"
   ]
  },
  {
   "cell_type": "markdown",
   "metadata": {
    "slideshow": {
     "slide_type": "subslide"
    }
   },
   "source": [
    "Proper place for *machine learning* model. The model for each tupe `(customer, product, channel)` estimates probabilty of buying (or any positive action)."
   ]
  },
  {
   "cell_type": "markdown",
   "metadata": {
    "slideshow": {
     "slide_type": "subslide"
    }
   },
   "source": [
    "##### Selecting optimal strategy of conducting the campaign"
   ]
  },
  {
   "cell_type": "markdown",
   "metadata": {
    "slideshow": {
     "slide_type": "subslide"
    }
   },
   "source": [
    "Some constraints are given:"
   ]
  },
  {
   "cell_type": "markdown",
   "metadata": {
    "slideshow": {
     "slide_type": "subslide"
    }
   },
   "source": [
    "* Cap on campaing budget.\n",
    "* Minimal product exposure (number of offers).\n",
    "* Minimum ROI must be achieved."
   ]
  },
  {
   "cell_type": "markdown",
   "metadata": {
    "slideshow": {
     "slide_type": "subslide"
    }
   },
   "source": [
    "**Here *machine learning* cannot help!**"
   ]
  },
  {
   "cell_type": "markdown",
   "metadata": {
    "slideshow": {
     "slide_type": "slide"
    }
   },
   "source": [
    "# What is `minizinc`?"
   ]
  },
  {
   "cell_type": "markdown",
   "metadata": {
    "slideshow": {
     "slide_type": "slide"
    }
   },
   "source": [
    "## [MiniZinc](https://www.minizinc.org/index.html) is a high-level **constraint modelling language**."
   ]
  },
  {
   "cell_type": "markdown",
   "metadata": {
    "slideshow": {
     "slide_type": "subslide"
    }
   },
   "source": [
    "![model-example](images/minizinc-model-example.png)"
   ]
  },
  {
   "cell_type": "markdown",
   "metadata": {
    "slideshow": {
     "slide_type": "slide"
    }
   },
   "source": [
    "## It separates model declaration from data and solver."
   ]
  },
  {
   "cell_type": "markdown",
   "metadata": {
    "slideshow": {
     "slide_type": "subslide"
    }
   },
   "source": [
    "* File with model with `mzn` extension\n",
    "* File with data with `dzn` extension or `json`"
   ]
  },
  {
   "cell_type": "code",
   "execution_count": 73,
   "metadata": {
    "slideshow": {
     "slide_type": "subslide"
    }
   },
   "outputs": [
    {
     "name": "stdout",
     "output_type": "stream",
     "text": [
      "vAssignment = array3d(1..2, 1..2, 1..2, [1, 0, 1, 0, 1, 0, 0, 1]);\n",
      "----------\n",
      "==========\n"
     ]
    }
   ],
   "source": [
    "!minizinc --solver Gecode dss-marketing-optimization.mzn small_dataset.json"
   ]
  },
  {
   "cell_type": "markdown",
   "metadata": {
    "slideshow": {
     "slide_type": "slide"
    }
   },
   "source": [
    "## Many solvers are available"
   ]
  },
  {
   "cell_type": "markdown",
   "metadata": {
    "slideshow": {
     "slide_type": "subslide"
    }
   },
   "source": [
    "![minzinc-solvers](images/minzinc-solvers.png)"
   ]
  },
  {
   "cell_type": "markdown",
   "metadata": {
    "slideshow": {
     "slide_type": "slide"
    }
   },
   "source": [
    "## It has a rich library of constraints for many practical problems."
   ]
  },
  {
   "cell_type": "markdown",
   "metadata": {
    "slideshow": {
     "slide_type": "subslide"
    }
   },
   "source": [
    "![minizinc-constraints](images/minizinc-global-constraints.png)"
   ]
  },
  {
   "cell_type": "markdown",
   "metadata": {
    "slideshow": {
     "slide_type": "slide"
    }
   },
   "source": [
    "## It is an extensible and highly powerful language"
   ]
  },
  {
   "cell_type": "markdown",
   "metadata": {
    "slideshow": {
     "slide_type": "fragment"
    }
   },
   "source": [
    "![minizinc-modular](images/minizinc-modular.png)"
   ]
  },
  {
   "cell_type": "markdown",
   "metadata": {
    "slideshow": {
     "slide_type": "fragment"
    }
   },
   "source": [
    "![minizinc-functions](images/minizinc-functions.png)"
   ]
  },
  {
   "cell_type": "markdown",
   "metadata": {
    "slideshow": {
     "slide_type": "fragment"
    }
   },
   "source": [
    "![minizinc-predicates](images/minizinc-predicates.png)"
   ]
  },
  {
   "cell_type": "markdown",
   "metadata": {
    "slideshow": {
     "slide_type": "fragment"
    }
   },
   "source": [
    "![minizinc-let](images/minizinc-let.png)"
   ]
  },
  {
   "cell_type": "markdown",
   "metadata": {
    "slideshow": {
     "slide_type": "slide"
    }
   },
   "source": [
    "# Optimization model for CRM Campaign"
   ]
  },
  {
   "cell_type": "markdown",
   "metadata": {
    "slideshow": {
     "slide_type": "subslide"
    }
   },
   "source": [
    "## Packages instalation"
   ]
  },
  {
   "cell_type": "code",
   "execution_count": 1,
   "metadata": {
    "slideshow": {
     "slide_type": "subslide"
    }
   },
   "outputs": [
    {
     "name": "stdout",
     "output_type": "stream",
     "text": [
      "iminizinc\n",
      "ipykernel\n",
      "minizinc\n",
      "nest_asyncio\n",
      "argparse\n"
     ]
    }
   ],
   "source": [
    "!cat requirements.txt"
   ]
  },
  {
   "cell_type": "code",
   "execution_count": 2,
   "metadata": {
    "slideshow": {
     "slide_type": "subslide"
    }
   },
   "outputs": [
    {
     "name": "stdout",
     "output_type": "stream",
     "text": [
      "Requirement already satisfied: iminizinc in ./venv/lib/python3.10/site-packages (from -r requirements.txt (line 1)) (0.4)\n",
      "Requirement already satisfied: ipykernel in ./venv/lib/python3.10/site-packages (from -r requirements.txt (line 2)) (6.5.1)\n",
      "Requirement already satisfied: minizinc in ./venv/lib/python3.10/site-packages (from -r requirements.txt (line 3)) (0.5.0)\n",
      "Requirement already satisfied: nest_asyncio in ./venv/lib/python3.10/site-packages (from -r requirements.txt (line 4)) (1.5.1)\n",
      "Collecting argparse\n",
      "  Downloading argparse-1.4.0-py2.py3-none-any.whl (23 kB)\n",
      "Requirement already satisfied: ipython in ./venv/lib/python3.10/site-packages (from iminizinc->-r requirements.txt (line 1)) (7.29.0)\n",
      "Requirement already satisfied: debugpy<2.0,>=1.0.0 in ./venv/lib/python3.10/site-packages (from ipykernel->-r requirements.txt (line 2)) (1.5.1)\n",
      "Requirement already satisfied: jupyter-client<8.0 in ./venv/lib/python3.10/site-packages (from ipykernel->-r requirements.txt (line 2)) (7.1.0)\n",
      "Requirement already satisfied: traitlets<6.0,>=5.1.0 in ./venv/lib/python3.10/site-packages (from ipykernel->-r requirements.txt (line 2)) (5.1.1)\n",
      "Requirement already satisfied: matplotlib-inline<0.2.0,>=0.1.0 in ./venv/lib/python3.10/site-packages (from ipykernel->-r requirements.txt (line 2)) (0.1.3)\n",
      "Requirement already satisfied: tornado<7.0,>=4.2 in ./venv/lib/python3.10/site-packages (from ipykernel->-r requirements.txt (line 2)) (6.1)\n",
      "Requirement already satisfied: setuptools>=18.5 in ./venv/lib/python3.10/site-packages (from ipython->iminizinc->-r requirements.txt (line 1)) (57.4.0)\n",
      "Requirement already satisfied: pexpect>4.3 in ./venv/lib/python3.10/site-packages (from ipython->iminizinc->-r requirements.txt (line 1)) (4.8.0)\n",
      "Requirement already satisfied: decorator in ./venv/lib/python3.10/site-packages (from ipython->iminizinc->-r requirements.txt (line 1)) (5.1.0)\n",
      "Requirement already satisfied: pygments in ./venv/lib/python3.10/site-packages (from ipython->iminizinc->-r requirements.txt (line 1)) (2.10.0)\n",
      "Requirement already satisfied: pickleshare in ./venv/lib/python3.10/site-packages (from ipython->iminizinc->-r requirements.txt (line 1)) (0.7.5)\n",
      "Requirement already satisfied: jedi>=0.16 in ./venv/lib/python3.10/site-packages (from ipython->iminizinc->-r requirements.txt (line 1)) (0.18.1)\n",
      "Requirement already satisfied: prompt-toolkit!=3.0.0,!=3.0.1,<3.1.0,>=2.0.0 in ./venv/lib/python3.10/site-packages (from ipython->iminizinc->-r requirements.txt (line 1)) (3.0.22)\n",
      "Requirement already satisfied: backcall in ./venv/lib/python3.10/site-packages (from ipython->iminizinc->-r requirements.txt (line 1)) (0.2.0)\n",
      "Requirement already satisfied: parso<0.9.0,>=0.8.0 in ./venv/lib/python3.10/site-packages (from jedi>=0.16->ipython->iminizinc->-r requirements.txt (line 1)) (0.8.2)\n",
      "Requirement already satisfied: python-dateutil>=2.1 in ./venv/lib/python3.10/site-packages (from jupyter-client<8.0->ipykernel->-r requirements.txt (line 2)) (2.8.2)\n",
      "Requirement already satisfied: pyzmq>=13 in ./venv/lib/python3.10/site-packages (from jupyter-client<8.0->ipykernel->-r requirements.txt (line 2)) (22.3.0)\n",
      "Requirement already satisfied: entrypoints in ./venv/lib/python3.10/site-packages (from jupyter-client<8.0->ipykernel->-r requirements.txt (line 2)) (0.3)\n",
      "Requirement already satisfied: jupyter-core>=4.6.0 in ./venv/lib/python3.10/site-packages (from jupyter-client<8.0->ipykernel->-r requirements.txt (line 2)) (4.9.1)\n",
      "Requirement already satisfied: ptyprocess>=0.5 in ./venv/lib/python3.10/site-packages (from pexpect>4.3->ipython->iminizinc->-r requirements.txt (line 1)) (0.7.0)\n",
      "Requirement already satisfied: wcwidth in ./venv/lib/python3.10/site-packages (from prompt-toolkit!=3.0.0,!=3.0.1,<3.1.0,>=2.0.0->ipython->iminizinc->-r requirements.txt (line 1)) (0.2.5)\n",
      "Requirement already satisfied: six>=1.5 in ./venv/lib/python3.10/site-packages (from python-dateutil>=2.1->jupyter-client<8.0->ipykernel->-r requirements.txt (line 2)) (1.16.0)\n",
      "Installing collected packages: argparse\n",
      "Successfully installed argparse-1.4.0\n",
      "\u001b[33mWARNING: You are using pip version 21.2.3; however, version 21.3.1 is available.\n",
      "You should consider upgrading via the '/workspaces/conf-dss2021/venv/bin/python -m pip install --upgrade pip' command.\u001b[0m\n"
     ]
    }
   ],
   "source": [
    "!pip3 install -r requirements.txt"
   ]
  },
  {
   "cell_type": "markdown",
   "metadata": {
    "slideshow": {
     "slide_type": "subslide"
    }
   },
   "source": [
    "## `minizinc` extension for `jupyter notebook`"
   ]
  },
  {
   "cell_type": "code",
   "execution_count": 3,
   "metadata": {
    "slideshow": {
     "slide_type": "subslide"
    }
   },
   "outputs": [
    {
     "data": {
      "application/javascript": "\"use strict\";\n\nCodeMirror.defineMode(\"text/minizinc\", function(config) {\n\n  var isOperatorChar = /[+\\-*=<>\\/]/;\n\n  var keywords = {\"array\":true,\n  \"bool\":true,\n  \"case\":true,\n  \"constraint\":true,\n  \"diff\":true,\n  \"div\":true,\n  \"else\":true,\n  \"elseif\":true,\n  \"endif\":true,\n  \"enum\":true,\n  \"false\":true,\n  \"float\":true,\n  \"function\":true,\n  \"if\":true,\n  \"in\":true,\n  \"include\":true,\n  \"int\":true,\n  \"intersect\":true,\n  \"let\":true,\n  \"list\":true,\n  \"maximize\":true,\n  \"minimize\":true,\n  \"mod\":true,\n  \"not\":true,\n  \"of\":true,\n  \"op\":true,\n  \"output\":true,\n  \"par\":true,\n  \"predicate\":true,\n  \"record\":true,\n  \"satisfy\":true,\n  \"set\":true,\n  \"solve\":true,\n  \"string\":true,\n  \"subset\":true,\n  \"superset\":true,\n  \"symdiff\":true,\n  \"test\":true,\n  \"then\":true,\n  \"true\":true,\n  \"tuple\":true,\n  \"type\":true,\n  \"union\":true,\n  \"var\":true,\n  \"where\":true,\n  \"xor\":true};\n\n  var punc = \":;,.(){}[]\";\n\n  function tokenBase(stream, state) {\n    var ch = stream.next();\n    if (ch == '\"') {\n      state.tokenize.push(tokenString);\n      return tokenString(stream, state);\n    }\n    if (/[\\d\\.]/.test(ch)) {\n      if (ch == \".\") {\n        stream.match(/^[0-9]+([eE][\\-+]?[0-9]+)?/);\n      } else if (ch == \"0\") {\n        stream.match(/^[xX][0-9a-fA-F]+/) || stream.match(/^0[0-7]+/);\n      } else {\n        stream.match(/^[0-9]*\\.?[0-9]*([eE][\\-+]?[0-9]+)?/);\n      }\n      return \"number\";\n    }\n    if (ch == \"/\") {\n      if (stream.eat(\"*\")) {\n        state.tokenize.push(tokenComment);\n        return tokenComment(stream, state);\n      }\n    }\n    if (ch == \"%\") {\n      stream.skipToEnd();\n      return \"comment\";\n    }\n    if (isOperatorChar.test(ch)) {\n      stream.eatWhile(isOperatorChar);\n      return \"operator\";\n    }\n    if (punc.indexOf(ch) > -1) {\n      return \"punctuation\";\n    }\n    stream.eatWhile(/[\\w\\$_\\xa1-\\uffff]/);\n    var cur = stream.current();\n    if (keywords.propertyIsEnumerable(cur)) {\n      return \"keyword\";\n    }\n    return \"variable\";\n  }\n\n  function tokenComment(stream, state) {\n    var maybeEnd = false, ch;\n    while (ch = stream.next()) {\n      if (ch == \"/\" && maybeEnd) {\n        state.tokenize.pop();\n        break;\n      }\n      maybeEnd = (ch == \"*\");\n    }\n    return \"comment\";\n  }\n\n  function tokenUntilClosingParen() {\n    var depth = 0;\n    return function(stream, state, prev) {\n      var inner = tokenBase(stream, state, prev);\n      console.log(\"untilClosing\",inner,stream.current());\n      if (inner == \"punctuation\") {\n        if (stream.current() == \"(\") {\n          ++depth;\n        } else if (stream.current() == \")\") {\n          if (depth == 0) {\n            stream.backUp(1)\n            state.tokenize.pop()\n            return state.tokenize[state.tokenize.length - 1](stream, state)\n          } else {\n            --depth;\n          }\n        }\n      }\n      return inner;\n    }\n  }\n\n  function tokenString(stream, state) {\n    var escaped = false, next, end = false;\n    while ((next = stream.next()) != null) {\n      if (next=='(' && escaped) {\n        state.tokenize.push(tokenUntilClosingParen());\n        return \"string\";\n      }\n      if (next == '\"' && !escaped) {end = true; break;}\n      escaped = !escaped && next == \"\\\\\";\n    }\n    if (end || !escaped)\n      state.tokenize.pop();\n    return \"string\";\n  }\n\n  return {\n    startState: function(basecolumn) {\n      return {\n        tokenize: []\n      };\n    },\n\n    token: function(stream, state) {\n      if (stream.eatSpace()) return null;\n      var style = (state.tokenize[state.tokenize.length - 1] || tokenBase)(stream, state);\n      console.log(\"token\",style);\n      return style;\n    },\n\n    blockCommentStart: \"/*\",\n    blockCommentEnd: \"*/\",\n    lineComment: \"%\"\n  };\n});\n\nCodeMirror.defineMIME(\"text/minizinc\", \"text/minizinc\");\n\nJupyter.CodeCell.options_default.highlight_modes['magic_text/minizinc'] = {'reg':[/^%%minizinc/]} ;\n\nJupyter.notebook.get_cells().map(function(cell){\n  if (cell.cell_type == 'code'){ cell.auto_highlight(); }\n}) ;\n",
      "text/plain": [
       "<IPython.core.display.Javascript object>"
      ]
     },
     "metadata": {},
     "output_type": "display_data"
    },
    {
     "name": "stdout",
     "output_type": "stream",
     "text": [
      "MiniZinc to FlatZinc converter, version 2.5.3\n",
      "Copyright (C) 2014-2020 Monash University, NICTA, Data61\n"
     ]
    }
   ],
   "source": [
    "%load_ext iminizinc"
   ]
  },
  {
   "cell_type": "markdown",
   "metadata": {
    "slideshow": {
     "slide_type": "slide"
    }
   },
   "source": [
    "## Model parameters"
   ]
  },
  {
   "cell_type": "markdown",
   "metadata": {
    "slideshow": {
     "slide_type": "slide"
    }
   },
   "source": [
    "### Customers, producs and channels"
   ]
  },
  {
   "cell_type": "markdown",
   "metadata": {
    "slideshow": {
     "slide_type": "subslide"
    }
   },
   "source": [
    "There are:\n",
    "\n",
    "* `pCustomerN` customer\n",
    "* `pProductsN` products/services\n",
    "* `pChannelsN` channels"
   ]
  },
  {
   "cell_type": "markdown",
   "metadata": {
    "slideshow": {
     "slide_type": "subslide"
    }
   },
   "source": [
    "In `minizinc` we declare it as follows"
   ]
  },
  {
   "cell_type": "code",
   "execution_count": 4,
   "metadata": {
    "slideshow": {
     "slide_type": "subslide"
    }
   },
   "outputs": [
    {
     "name": "stdout",
     "output_type": "stream",
     "text": [
      "Variable pCustomersN is undefined\n",
      "Variable pProductsN is undefined\n",
      "Variable pChannelsN is undefined\n"
     ]
    }
   ],
   "source": [
    "%%minizinc\n",
    "int: pCustomersN;\n",
    "int: pProductsN;\n",
    "int: pChannelsN;"
   ]
  },
  {
   "cell_type": "markdown",
   "metadata": {
    "slideshow": {
     "slide_type": "slide"
    }
   },
   "source": [
    "### Expected reve for product in channel for a customer"
   ]
  },
  {
   "cell_type": "markdown",
   "metadata": {
    "slideshow": {
     "slide_type": "subslide"
    }
   },
   "source": [
    "Expected reve when given product is offered to given customer via given channel. We store this information in 3 dimensional array."
   ]
  },
  {
   "cell_type": "code",
   "execution_count": 5,
   "metadata": {
    "slideshow": {
     "slide_type": "subslide"
    }
   },
   "outputs": [
    {
     "name": "stdout",
     "output_type": "stream",
     "text": [
      "Variable pCustomersN is undefined\n",
      "Variable pProductsN is undefined\n",
      "Variable pChannelsN is undefined\n",
      "Variable pExpectedReve is undefined\n"
     ]
    }
   ],
   "source": [
    "%%minizinc\n",
    "%Parameters\n",
    "int: pCustomersN;\n",
    "int: pProductsN;\n",
    "int: pChannelsN;\n",
    "array[1..pCustomersN, \n",
    "      1..pProductsN, \n",
    "      1..pChannelsN] of float: pExpectedReve;"
   ]
  },
  {
   "cell_type": "markdown",
   "metadata": {
    "slideshow": {
     "slide_type": "slide"
    }
   },
   "source": [
    "### Minimal guaranteed ROI"
   ]
  },
  {
   "cell_type": "code",
   "execution_count": 6,
   "metadata": {
    "slideshow": {
     "slide_type": "subslide"
    }
   },
   "outputs": [
    {
     "name": "stdout",
     "output_type": "stream",
     "text": [
      "Variable pCustomersN is undefined\n",
      "Variable pProductsN is undefined\n",
      "Variable pChannelsN is undefined\n",
      "Variable pExpectedReve is undefined\n",
      "Variable pMinHurdleReve is undefined\n"
     ]
    }
   ],
   "source": [
    "%%minizinc\n",
    "%Parameters\n",
    "int: pCustomersN;\n",
    "int: pProductsN;\n",
    "int: pChannelsN;\n",
    "array[1..pCustomersN, 1..pProductsN, 1..pChannelsN] of float: pExpectedReve;\n",
    "float: pMinHurdleReve;"
   ]
  },
  {
   "cell_type": "markdown",
   "metadata": {
    "slideshow": {
     "slide_type": "slide"
    }
   },
   "source": [
    "### Marketing costs"
   ]
  },
  {
   "cell_type": "markdown",
   "metadata": {
    "slideshow": {
     "slide_type": "subslide"
    }
   },
   "source": [
    "Marketing costs depend only on a channel."
   ]
  },
  {
   "cell_type": "code",
   "execution_count": 7,
   "metadata": {
    "slideshow": {
     "slide_type": "subslide"
    }
   },
   "outputs": [
    {
     "name": "stdout",
     "output_type": "stream",
     "text": [
      "Variable pCustomersN is undefined\n",
      "Variable pProductsN is undefined\n",
      "Variable pChannelsN is undefined\n",
      "Variable pExpectedReve is undefined\n",
      "Variable pMinHurdleReve is undefined\n",
      "Variable pChannelCosts is undefined\n"
     ]
    }
   ],
   "source": [
    "%%minizinc\n",
    "%Parameters\n",
    "int: pCustomersN;\n",
    "int: pProductsN;\n",
    "int: pChannelsN;\n",
    "array[1..pCustomersN, 1..pProductsN, 1..pChannelsN] of float: pExpectedReve;\n",
    "float: pMinHurdleReve;\n",
    "array[1..pChannelsN] of float: pChannelCosts;"
   ]
  },
  {
   "cell_type": "markdown",
   "metadata": {
    "slideshow": {
     "slide_type": "slide"
    }
   },
   "source": [
    "### Maximum budget\n"
   ]
  },
  {
   "cell_type": "code",
   "execution_count": 8,
   "metadata": {
    "slideshow": {
     "slide_type": "subslide"
    }
   },
   "outputs": [
    {
     "name": "stdout",
     "output_type": "stream",
     "text": [
      "Variable pCustomersN is undefined\n",
      "Variable pProductsN is undefined\n",
      "Variable pChannelsN is undefined\n",
      "Variable pExpectedReve is undefined\n",
      "Variable pMinHurdleReve is undefined\n",
      "Variable pChannelCosts is undefined\n",
      "Variable pMaxBudget is undefined\n"
     ]
    }
   ],
   "source": [
    "%%minizinc\n",
    "%Parameters\n",
    "int: pCustomersN;\n",
    "int: pProductsN;\n",
    "int: pChannelsN;\n",
    "array[1..pCustomersN, 1..pProductsN, 1..pChannelsN] of float: pExpectedReve;\n",
    "float: pMinHurdleReve;\n",
    "array[1..pChannelsN] of float: pChannelCosts;\n",
    "\n",
    "float: pMaxBudget;"
   ]
  },
  {
   "cell_type": "markdown",
   "metadata": {
    "slideshow": {
     "slide_type": "slide"
    }
   },
   "source": [
    "### Minimum exposure of a product "
   ]
  },
  {
   "cell_type": "code",
   "execution_count": 9,
   "metadata": {
    "slideshow": {
     "slide_type": "subslide"
    }
   },
   "outputs": [
    {
     "name": "stdout",
     "output_type": "stream",
     "text": [
      "Variable pCustomersN is undefined\n",
      "Variable pProductsN is undefined\n",
      "Variable pChannelsN is undefined\n",
      "Variable pExpectedReve is undefined\n",
      "Variable pMinHurdleReve is undefined\n",
      "Variable pChannelCosts is undefined\n",
      "Variable pMaxBudget is undefined\n",
      "Variable pProductsMinOffersN is undefined\n"
     ]
    }
   ],
   "source": [
    "%%minizinc\n",
    "%Parameters\n",
    "int: pCustomersN;\n",
    "int: pProductsN;\n",
    "int: pChannelsN;\n",
    "array[1..pCustomersN, 1..pProductsN, 1..pChannelsN] of float: pExpectedReve;\n",
    "float: pMinHurdleReve;\n",
    "array[1..pChannelsN] of float: pChannelCosts;\n",
    "float: pMaxBudget;\n",
    "\n",
    "array[1..pProductsN] of int: pProductsMinOffersN;"
   ]
  },
  {
   "cell_type": "markdown",
   "metadata": {
    "slideshow": {
     "slide_type": "slide"
    }
   },
   "source": [
    "## Variables"
   ]
  },
  {
   "cell_type": "markdown",
   "metadata": {
    "slideshow": {
     "slide_type": "slide"
    }
   },
   "source": [
    "### Assigning product to customer and channel"
   ]
  },
  {
   "cell_type": "markdown",
   "metadata": {
    "slideshow": {
     "slide_type": "subslide"
    }
   },
   "source": [
    "For each customer, product and channel decided if we should act. We will denote this variable as `vAssignment[customer, product, channel]`."
   ]
  },
  {
   "cell_type": "code",
   "execution_count": 10,
   "metadata": {
    "slideshow": {
     "slide_type": "subslide"
    }
   },
   "outputs": [
    {
     "name": "stdout",
     "output_type": "stream",
     "text": [
      "Variable pCustomersN is undefined\n",
      "Variable pProductsN is undefined\n",
      "Variable pChannelsN is undefined\n",
      "Variable pExpectedReve is undefined\n",
      "Variable pChannelCosts is undefined\n",
      "Variable pMaxBudget is undefined\n",
      "Variable pProductsMinOffersN is undefined\n",
      "Variable pMinHurdleReve is undefined\n"
     ]
    }
   ],
   "source": [
    "%%minizinc\n",
    "%Parameters\n",
    "int: pCustomersN;\n",
    "int: pProductsN;\n",
    "int: pChannelsN;\n",
    "array[1..pCustomersN, 1..pProductsN, 1..pChannelsN] of float: pExpectedReve;\n",
    "array[1..pChannelsN] of float: pChannelCosts;\n",
    "float: pMaxBudget;\n",
    "array[1..pProductsN] of int: pProductsMinOffersN;\n",
    "float: pMinHurdleReve;\n",
    "\n",
    "%Variables\n",
    "array[1..pCustomersN,\n",
    "      1..pProductsN,\n",
    "      1..pChannelsN] of var 0..1: vAssignment;\n"
   ]
  },
  {
   "cell_type": "markdown",
   "metadata": {
    "slideshow": {
     "slide_type": "slide"
    }
   },
   "source": [
    "## Constraints"
   ]
  },
  {
   "cell_type": "markdown",
   "metadata": {
    "slideshow": {
     "slide_type": "slide"
    }
   },
   "source": [
    "### Maximum budget"
   ]
  },
  {
   "cell_type": "markdown",
   "metadata": {
    "slideshow": {
     "slide_type": "subslide"
    }
   },
   "source": [
    "Total costs of contacting customers cannot be more than `pMaxBudget`."
   ]
  },
  {
   "cell_type": "code",
   "execution_count": 11,
   "metadata": {
    "slideshow": {
     "slide_type": "subslide"
    }
   },
   "outputs": [
    {
     "name": "stdout",
     "output_type": "stream",
     "text": [
      "Variable pCustomersN is undefined\n",
      "Variable pProductsN is undefined\n",
      "Variable pChannelsN is undefined\n",
      "Variable pExpectedReve is undefined\n",
      "Variable pChannelCosts is undefined\n",
      "Variable pMaxBudget is undefined\n",
      "Variable pProductsMinOffersN is undefined\n",
      "Variable pMinHurdleReve is undefined\n"
     ]
    }
   ],
   "source": [
    "%%minizinc\n",
    "%Parameters\n",
    "int: pCustomersN;\n",
    "int: pProductsN;\n",
    "int: pChannelsN;\n",
    "array[1..pCustomersN, 1..pProductsN, 1..pChannelsN] of float: pExpectedReve;\n",
    "array[1..pChannelsN] of float: pChannelCosts;\n",
    "float: pMaxBudget;\n",
    "array[1..pProductsN] of int: pProductsMinOffersN;\n",
    "float: pMinHurdleReve;\n",
    "\n",
    "%Variables\n",
    "array[1..pCustomersN, 1..pProductsN, 1..pChannelsN] of var 0..1: vAssignment;\n",
    "\n",
    "%Constraints\n",
    "constraint sum(customer in 1..pCustomersN,\n",
    "               product in 1..pProductsN,\n",
    "               channel in 1..pChannelsN)(\n",
    "                   vAssignment[customer, product, channel]*\n",
    "                   pChannelCosts[channel]\n",
    "               ) <= pMaxBudget;"
   ]
  },
  {
   "cell_type": "markdown",
   "metadata": {
    "slideshow": {
     "slide_type": "slide"
    }
   },
   "source": [
    "### Minimum exposure for each product"
   ]
  },
  {
   "cell_type": "markdown",
   "metadata": {
    "slideshow": {
     "slide_type": "subslide"
    }
   },
   "source": [
    "Each product must be offered given (`pProductsMinOfferN`) times."
   ]
  },
  {
   "cell_type": "code",
   "execution_count": 12,
   "metadata": {
    "slideshow": {
     "slide_type": "subslide"
    }
   },
   "outputs": [
    {
     "name": "stdout",
     "output_type": "stream",
     "text": [
      "Variable pCustomersN is undefined\n",
      "Variable pProductsN is undefined\n",
      "Variable pChannelsN is undefined\n",
      "Variable pExpectedReve is undefined\n",
      "Variable pChannelCosts is undefined\n",
      "Variable pMaxBudget is undefined\n",
      "Variable pProductsMinOffersN is undefined\n",
      "Variable pMinHurdleReve is undefined\n"
     ]
    }
   ],
   "source": [
    "%%minizinc\n",
    "%Parameters\n",
    "int: pCustomersN;\n",
    "int: pProductsN;\n",
    "int: pChannelsN;\n",
    "array[1..pCustomersN, 1..pProductsN, 1..pChannelsN] of float: pExpectedReve;\n",
    "array[1..pChannelsN] of float: pChannelCosts;\n",
    "float: pMaxBudget;\n",
    "array[1..pProductsN] of int: pProductsMinOffersN;\n",
    "float: pMinHurdleReve;\n",
    "\n",
    "%Variables\n",
    "array[1..pCustomersN, 1..pProductsN, 1..pChannelsN] of var 0..1: vAssignment;\n",
    "\n",
    "%Constraints\n",
    "constraint sum(customer in 1..pCustomersN, product in 1..pProductsN, channel in 1..pChannelsN)(vAssignment[customer, product, channel]*pChannelCosts[pChannelsN]) <= pMaxBudget;\n",
    "\n",
    "constraint forall(product in 1..pProductsN) (\n",
    "    sum(customer in 1..pCustomersN,\n",
    "        channel in 1..pChannelsN) (\n",
    "              vAssignment[customer, product, channel]\n",
    "    ) >= pProductsMinOffersN[product]);"
   ]
  },
  {
   "cell_type": "markdown",
   "metadata": {
    "slideshow": {
     "slide_type": "slide"
    }
   },
   "source": [
    "### Minimum guaranteed ROI "
   ]
  },
  {
   "cell_type": "markdown",
   "metadata": {
    "slideshow": {
     "slide_type": "subslide"
    }
   },
   "source": [
    "Company wants to have minimum ROI."
   ]
  },
  {
   "cell_type": "code",
   "execution_count": 13,
   "metadata": {
    "slideshow": {
     "slide_type": "subslide"
    }
   },
   "outputs": [
    {
     "name": "stdout",
     "output_type": "stream",
     "text": [
      "Variable pCustomersN is undefined\n",
      "Variable pProductsN is undefined\n",
      "Variable pChannelsN is undefined\n",
      "Variable pExpectedReve is undefined\n",
      "Variable pChannelCosts is undefined\n",
      "Variable pMaxBudget is undefined\n",
      "Variable pProductsMinOffersN is undefined\n",
      "Variable pMinHurdleReve is undefined\n"
     ]
    }
   ],
   "source": [
    "%%minizinc\n",
    "%Parameters\n",
    "int: pCustomersN;\n",
    "int: pProductsN;\n",
    "int: pChannelsN;\n",
    "array[1..pCustomersN, 1..pProductsN, 1..pChannelsN] of float: pExpectedReve;\n",
    "array[1..pChannelsN] of float: pChannelCosts;\n",
    "float: pMaxBudget;\n",
    "array[1..pProductsN] of int: pProductsMinOffersN;\n",
    "float: pMinHurdleReve;\n",
    "\n",
    "%Variables\n",
    "array[1..pCustomersN, 1..pProductsN, 1..pChannelsN] of var 0..1: vAssignment;\n",
    "\n",
    "%Constraints\n",
    "constraint sum(customer in 1..pCustomersN, product in 1..pProductsN, channel in 1..pChannelsN)(vAssignment[customer, product, channel]*pChannelCosts[pChannelsN]) <= pMaxBudget;\n",
    "\n",
    "constraint forall(product in 1..pProductsN) (\n",
    "    sum(customer in 1..pCustomersN,\n",
    "        channel in 1..pChannelsN) (\n",
    "              vAssignment[customer, product, channel]\n",
    "    ) >= pProductsMinOffersN[product]);\n",
    "\n",
    "constraint sum(customer in 1..pCustomersN,\n",
    "               product in 1..pProductsN,\n",
    "               channel in 1..pChannelsN)\n",
    "            (\n",
    "                vAssignment[customer, product, channel]*pExpectedReve[customer, product, channel]\n",
    "            ) >= \n",
    "            (1+pMinHurdleReve)*sum(customer in 1..pCustomersN,\n",
    "                                   product in 1..pProductsN,\n",
    "                                   channel in 1..pChannelsN)\n",
    "                                    (\n",
    "                                        vAssignment[customer, product, channel]*pChannelCosts[pChannelsN]\n",
    "                                    );"
   ]
  },
  {
   "cell_type": "markdown",
   "metadata": {
    "slideshow": {
     "slide_type": "slide"
    }
   },
   "source": [
    "## Objective function"
   ]
  },
  {
   "cell_type": "markdown",
   "metadata": {
    "slideshow": {
     "slide_type": "subslide"
    }
   },
   "source": [
    "### We want to optimize total margin from the campaign."
   ]
  },
  {
   "cell_type": "code",
   "execution_count": 14,
   "metadata": {
    "slideshow": {
     "slide_type": "subslide"
    }
   },
   "outputs": [
    {
     "name": "stdout",
     "output_type": "stream",
     "text": [
      "Variable pCustomersN is undefined\n",
      "Variable pProductsN is undefined\n",
      "Variable pChannelsN is undefined\n",
      "Variable pExpectedReve is undefined\n",
      "Variable pChannelCosts is undefined\n",
      "Variable pMaxBudget is undefined\n",
      "Variable pProductsMinOffersN is undefined\n",
      "Variable pMinHurdleReve is undefined\n"
     ]
    }
   ],
   "source": [
    "%%minizinc\n",
    "%Parameters\n",
    "int: pCustomersN;\n",
    "int: pProductsN;\n",
    "int: pChannelsN;\n",
    "array[1..pCustomersN, 1..pProductsN, 1..pChannelsN] of float: pExpectedReve;\n",
    "array[1..pChannelsN] of float: pChannelCosts;\n",
    "float: pMaxBudget;\n",
    "array[1..pProductsN] of int: pProductsMinOffersN;\n",
    "float: pMinHurdleReve;\n",
    "\n",
    "%Variables\n",
    "array[1..pCustomersN, 1..pProductsN, 1..pChannelsN] of var 0..1: vAssignment;\n",
    "\n",
    "%Constraints\n",
    "constraint sum(customer in 1..pCustomersN, product in 1..pProductsN, channel in 1..pChannelsN)(vAssignment[customer, product, channel]*pChannelCosts[pChannelsN]) <= pMaxBudget;\n",
    "\n",
    "constraint forall(product in 1..pProductsN) (\n",
    "    sum(customer in 1..pCustomersN,\n",
    "        channel in 1..pChannelsN) (\n",
    "              vAssignment[customer, product, channel]\n",
    "    ) >= pProductsMinOffersN[product]);\n",
    "\n",
    "constraint sum(customer in 1..pCustomersN,\n",
    "               product in 1..pProductsN,\n",
    "               channel in 1..pChannelsN)\n",
    "            (\n",
    "                vAssignment[customer, product, channel]*pExpectedReve[customer, product, channel]\n",
    "            ) >= \n",
    "            (1+pMinHurdleReve)*sum(customer in 1..pCustomersN,\n",
    "                                   product in 1..pProductsN,\n",
    "                                   channel in 1..pChannelsN)\n",
    "                                    (\n",
    "                                        vAssignment[customer, product, channel]*pChannelCosts[pChannelsN]\n",
    "                                    );\n",
    "\n",
    "solve maximize sum(customer in 1..pCustomersN,\n",
    "                   product in 1..pProductsN,\n",
    "                   channel in 1..pChannelsN)\n",
    "                (\n",
    "                    vAssignment[customer, product, channel]*\n",
    "                    pExpectedReve[customer, product, channel]\n",
    "                );"
   ]
  },
  {
   "cell_type": "markdown",
   "metadata": {
    "slideshow": {
     "slide_type": "slide"
    }
   },
   "source": [
    "## Finding Solution"
   ]
  },
  {
   "cell_type": "markdown",
   "metadata": {
    "slideshow": {
     "slide_type": "slide"
    }
   },
   "source": [
    "### Using external datasets"
   ]
  },
  {
   "cell_type": "markdown",
   "metadata": {
    "slideshow": {
     "slide_type": "subslide"
    }
   },
   "source": [
    "To provide values for model parameters we can use `json` format."
   ]
  },
  {
   "cell_type": "code",
   "execution_count": 15,
   "metadata": {
    "scrolled": true,
    "slideshow": {
     "slide_type": "subslide"
    }
   },
   "outputs": [
    {
     "name": "stdout",
     "output_type": "stream",
     "text": [
      "\u001b[1;39m{\n",
      "  \u001b[0m\u001b[34;1m\"pCustomersN\"\u001b[0m\u001b[1;39m: \u001b[0m\u001b[0;39m2\u001b[0m\u001b[1;39m,\n",
      "  \u001b[0m\u001b[34;1m\"pProductsN\"\u001b[0m\u001b[1;39m: \u001b[0m\u001b[0;39m2\u001b[0m\u001b[1;39m,\n",
      "  \u001b[0m\u001b[34;1m\"pChannelsN\"\u001b[0m\u001b[1;39m: \u001b[0m\u001b[0;39m2\u001b[0m\u001b[1;39m,\n",
      "  \u001b[0m\u001b[34;1m\"pMaxBudget\"\u001b[0m\u001b[1;39m: \u001b[0m\u001b[0;39m1\u001b[0m\u001b[1;39m,\n",
      "  \u001b[0m\u001b[34;1m\"pMinHurdleReve\"\u001b[0m\u001b[1;39m: \u001b[0m\u001b[0;39m0.2\u001b[0m\u001b[1;39m,\n",
      "  \u001b[0m\u001b[34;1m\"pExpectedReve\"\u001b[0m\u001b[1;39m: \u001b[0m\u001b[1;39m[\n",
      "    \u001b[1;39m[\n",
      "      \u001b[1;39m[\n",
      "        \u001b[0;39m0.45\u001b[0m\u001b[1;39m,\n",
      "        \u001b[0;39m0.2\u001b[0m\u001b[1;39m\n",
      "      \u001b[1;39m]\u001b[0m\u001b[1;39m,\n",
      "      \u001b[1;39m[\n",
      "        \u001b[0;39m0.35\u001b[0m\u001b[1;39m,\n",
      "        \u001b[0;39m0.3\u001b[0m\u001b[1;39m\n",
      "      \u001b[1;39m]\u001b[0m\u001b[1;39m\n",
      "    \u001b[1;39m]\u001b[0m\u001b[1;39m,\n",
      "    \u001b[1;39m[\n",
      "      \u001b[1;39m[\n",
      "        \u001b[0;39m0.55\u001b[0m\u001b[1;39m,\n",
      "        \u001b[0;39m0.1\u001b[0m\u001b[1;39m\n",
      "      \u001b[1;39m]\u001b[0m\u001b[1;39m,\n",
      "      \u001b[1;39m[\n",
      "        \u001b[0;39m0.2\u001b[0m\u001b[1;39m,\n",
      "        \u001b[0;39m0.45\u001b[0m\u001b[1;39m\n",
      "      \u001b[1;39m]\u001b[0m\u001b[1;39m\n",
      "    \u001b[1;39m]\u001b[0m\u001b[1;39m\n",
      "  \u001b[1;39m]\u001b[0m\u001b[1;39m,\n",
      "  \u001b[0m\u001b[34;1m\"pChannelCosts\"\u001b[0m\u001b[1;39m: \u001b[0m\u001b[1;39m[\n",
      "    \u001b[0;39m0.45\u001b[0m\u001b[1;39m,\n",
      "    \u001b[0;39m0.2\u001b[0m\u001b[1;39m\n",
      "  \u001b[1;39m]\u001b[0m\u001b[1;39m,\n",
      "  \u001b[0m\u001b[34;1m\"pProductsMinOffersN\"\u001b[0m\u001b[1;39m: \u001b[0m\u001b[1;39m[\n",
      "    \u001b[0;39m1\u001b[0m\u001b[1;39m,\n",
      "    \u001b[0;39m1\u001b[0m\u001b[1;39m\n",
      "  \u001b[1;39m]\u001b[0m\u001b[1;39m\n",
      "\u001b[1;39m}\u001b[0m\n"
     ]
    }
   ],
   "source": [
    "!jq '.' small_dataset.json"
   ]
  },
  {
   "cell_type": "markdown",
   "metadata": {
    "slideshow": {
     "slide_type": "slide"
    }
   },
   "source": [
    "### Let's solve the model with the `small_dataset.json` dataset"
   ]
  },
  {
   "cell_type": "code",
   "execution_count": 16,
   "metadata": {
    "slideshow": {
     "slide_type": "subslide"
    }
   },
   "outputs": [],
   "source": [
    "%%minizinc -m bind --data small_dataset.json\n",
    "%Parameters\n",
    "int: pCustomersN;\n",
    "int: pProductsN;\n",
    "int: pChannelsN;\n",
    "array[1..pCustomersN, 1..pProductsN, 1..pChannelsN] of float: pExpectedReve;\n",
    "array[1..pChannelsN] of float: pChannelCosts;\n",
    "float: pMaxBudget;\n",
    "array[1..pProductsN] of int: pProductsMinOffersN;\n",
    "float: pMinHurdleReve;\n",
    "\n",
    "%Variables\n",
    "array[1..pCustomersN, 1..pProductsN, 1..pChannelsN] of var 0..1: vAssignment;\n",
    "\n",
    "%Constraints\n",
    "constraint sum(customer in 1..pCustomersN, product in 1..pProductsN, channel in 1..pChannelsN)(vAssignment[customer, product, channel]*pChannelCosts[pChannelsN]) <= pMaxBudget;\n",
    "\n",
    "constraint forall(product in 1..pProductsN) (\n",
    "    sum(customer in 1..pCustomersN,\n",
    "        channel in 1..pChannelsN) (\n",
    "              vAssignment[customer, product, channel]\n",
    "    ) >= pProductsMinOffersN[product]);\n",
    "\n",
    "constraint sum(customer in 1..pCustomersN,\n",
    "               product in 1..pProductsN,\n",
    "               channel in 1..pChannelsN)\n",
    "            (\n",
    "                vAssignment[customer, product, channel]*pExpectedReve[customer, product, channel]\n",
    "            ) >= \n",
    "            (1+pMinHurdleReve)*sum(customer in 1..pCustomersN,\n",
    "                                   product in 1..pProductsN,\n",
    "                                   channel in 1..pChannelsN)\n",
    "                                    (\n",
    "                                        vAssignment[customer, product, channel]*pChannelCosts[pChannelsN]\n",
    "                                    );\n",
    "\n",
    "solve maximize sum(customer in 1..pCustomersN,\n",
    "                   product in 1..pProductsN,\n",
    "                   channel in 1..pChannelsN)\n",
    "                (\n",
    "                    vAssignment[customer, product, channel]*\n",
    "                    pExpectedReve[customer, product, channel]\n",
    "                );"
   ]
  },
  {
   "cell_type": "markdown",
   "metadata": {
    "slideshow": {
     "slide_type": "slide"
    }
   },
   "source": [
    "### Print the solution"
   ]
  },
  {
   "cell_type": "code",
   "execution_count": 17,
   "metadata": {
    "slideshow": {
     "slide_type": "subslide"
    }
   },
   "outputs": [
    {
     "name": "stdout",
     "output_type": "stream",
     "text": [
      "Offer product:1 to customer 1 using channel 1\n",
      "Offer product:2 to customer 1 using channel 1\n",
      "Offer product:1 to customer 2 using channel 1\n",
      "Offer product:1 to customer 2 using channel 2\n",
      "Offer product:2 to customer 2 using channel 2\n"
     ]
    }
   ],
   "source": [
    "for customer in range(len(vAssignment)):\n",
    "    for product in range(len(vAssignment[customer])):\n",
    "        for channel in range(len(vAssignment[customer][product])):\n",
    "            if vAssignment[product][customer][channel] > 0:\n",
    "                print(f\"Offer product:{product+1} to customer {customer+1} using channel {channel+1}\")"
   ]
  },
  {
   "cell_type": "markdown",
   "metadata": {
    "slideshow": {
     "slide_type": "slide"
    }
   },
   "source": [
    "## Augment model (add constraint)"
   ]
  },
  {
   "cell_type": "markdown",
   "metadata": {
    "slideshow": {
     "slide_type": "subslide"
    }
   },
   "source": [
    "We can see that the model is assigning the same product (id=1) to the same customer (id=2) on both channels. Let's block this by adding extra-constraint."
   ]
  },
  {
   "cell_type": "code",
   "execution_count": 18,
   "metadata": {
    "slideshow": {
     "slide_type": "subslide"
    }
   },
   "outputs": [],
   "source": [
    "%%minizinc -m bind --data small_dataset.json\n",
    "%Parameters\n",
    "int: pCustomersN;\n",
    "int: pProductsN;\n",
    "int: pChannelsN;\n",
    "array[1..pCustomersN, 1..pProductsN, 1..pChannelsN] of float: pExpectedReve;\n",
    "array[1..pChannelsN] of float: pChannelCosts;\n",
    "float: pMaxBudget;\n",
    "array[1..pProductsN] of int: pProductsMinOffersN;\n",
    "float: pMinHurdleReve;\n",
    "\n",
    "%Variables\n",
    "array[1..pCustomersN, 1..pProductsN, 1..pChannelsN] of var 0..1: vAssignment;\n",
    "\n",
    "%Constraints\n",
    "constraint sum(customer in 1..pCustomersN, product in 1..pProductsN, channel in 1..pChannelsN)(vAssignment[customer, product, channel]*pChannelCosts[pChannelsN]) <= pMaxBudget;\n",
    "\n",
    "constraint forall(product in 1..pProductsN) (\n",
    "    sum(customer in 1..pCustomersN,\n",
    "        channel in 1..pChannelsN) (\n",
    "              vAssignment[customer, product, channel]\n",
    "    ) >= pProductsMinOffersN[product]);\n",
    "\n",
    "constraint sum(customer in 1..pCustomersN,\n",
    "               product in 1..pProductsN,\n",
    "               channel in 1..pChannelsN)\n",
    "            (\n",
    "                vAssignment[customer, product, channel]*pExpectedReve[customer, product, channel]\n",
    "            ) >= \n",
    "            (1+pMinHurdleReve)*sum(customer in 1..pCustomersN,\n",
    "                                   product in 1..pProductsN,\n",
    "                                   channel in 1..pChannelsN)\n",
    "                                    (\n",
    "                                        vAssignment[customer, product, channel]*pChannelCosts[pChannelsN]\n",
    "                                    );\n",
    "\n",
    "%product to customer only via max one channel\n",
    "constraint forall(customer in 1..pCustomersN,\n",
    "                  product in 1..pProductsN) (\n",
    "    sum(channel in 1..pChannelsN)(\n",
    "        vAssignment[customer, product, channel]\n",
    "    ) <= 1 \n",
    ");\n",
    "\n",
    "solve maximize sum(customer in 1..pCustomersN,\n",
    "                   product in 1..pProductsN,\n",
    "                   channel in 1..pChannelsN)\n",
    "                (\n",
    "                    vAssignment[customer, product, channel]*\n",
    "                    pExpectedReve[customer, product, channel]\n",
    "                );"
   ]
  },
  {
   "cell_type": "code",
   "execution_count": 19,
   "metadata": {
    "slideshow": {
     "slide_type": "subslide"
    }
   },
   "outputs": [
    {
     "name": "stdout",
     "output_type": "stream",
     "text": [
      "Offer product:1 to customer 1 using channel 1\n",
      "Offer product:2 to customer 1 using channel 1\n",
      "Offer product:1 to customer 2 using channel 1\n",
      "Offer product:2 to customer 2 using channel 2\n"
     ]
    }
   ],
   "source": [
    "for customer in range(len(vAssignment)):\n",
    "    for product in range(len(vAssignment[customer])):\n",
    "        for channel in range(len(vAssignment[customer][product])):\n",
    "            if vAssignment[product][customer][channel] > 0:\n",
    "                print(f\"Offer product:{product+1} to customer {customer+1} using channel {channel+1}\")"
   ]
  },
  {
   "cell_type": "markdown",
   "metadata": {
    "slideshow": {
     "slide_type": "subslide"
    }
   },
   "source": [
    "Now the customer (id=2) gets a product offering via max one channel."
   ]
  },
  {
   "cell_type": "markdown",
   "metadata": {
    "slideshow": {
     "slide_type": "slide"
    }
   },
   "source": [
    "## What if analysis?"
   ]
  },
  {
   "cell_type": "markdown",
   "metadata": {
    "slideshow": {
     "slide_type": "subslide"
    }
   },
   "source": [
    "### What would be the solution if we reduced budget to 0.5?"
   ]
  },
  {
   "cell_type": "code",
   "execution_count": 20,
   "metadata": {
    "slideshow": {
     "slide_type": "subslide"
    }
   },
   "outputs": [],
   "source": [
    "%%minizinc -m bind --data small_dataset_whatif.json\n",
    "%Parameters\n",
    "int: pCustomersN;\n",
    "int: pProductsN;\n",
    "int: pChannelsN;\n",
    "array[1..pCustomersN, 1..pProductsN, 1..pChannelsN] of float: pExpectedReve;\n",
    "array[1..pChannelsN] of float: pChannelCosts;\n",
    "float: pMaxBudget = 0.5;\n",
    "array[1..pProductsN] of int: pProductsMinOffersN;\n",
    "float: pMinHurdleReve;\n",
    "\n",
    "%Variables\n",
    "array[1..pCustomersN, 1..pProductsN, 1..pChannelsN] of var 0..1: vAssignment;\n",
    "var float: vTotalMargin;\n",
    "\n",
    "%Constraints\n",
    "constraint sum(customer in 1..pCustomersN, product in 1..pProductsN, channel in 1..pChannelsN)(vAssignment[customer, product, channel]*pChannelCosts[pChannelsN]) <= pMaxBudget;\n",
    "\n",
    "constraint forall(product in 1..pProductsN) (\n",
    "    sum(customer in 1..pCustomersN,\n",
    "        channel in 1..pChannelsN) (\n",
    "              vAssignment[customer, product, channel]\n",
    "    ) >= pProductsMinOffersN[product]);\n",
    "\n",
    "constraint sum(customer in 1..pCustomersN,\n",
    "               product in 1..pProductsN,\n",
    "               channel in 1..pChannelsN)\n",
    "            (\n",
    "                vAssignment[customer, product, channel]*pExpectedReve[customer, product, channel]\n",
    "            ) >= \n",
    "            (1+pMinHurdleReve)*sum(customer in 1..pCustomersN,\n",
    "                                   product in 1..pProductsN,\n",
    "                                   channel in 1..pChannelsN)\n",
    "                                    (\n",
    "                                        vAssignment[customer, product, channel]*pChannelCosts[pChannelsN]\n",
    "                                    );\n",
    "\n",
    "%product to customer only via max one channel\n",
    "constraint forall(customer in 1..pCustomersN,\n",
    "                  product in 1..pProductsN) (\n",
    "    sum(channel in 1..pChannelsN)(\n",
    "        vAssignment[customer, product, channel]\n",
    "    ) <= 1 \n",
    ");\n",
    "\n",
    "%total margin\n",
    "constraint vTotalMargin = sum(customer in 1..pCustomersN,\n",
    "                   product in 1..pProductsN,\n",
    "                   channel in 1..pChannelsN)\n",
    "                (\n",
    "                    vAssignment[customer, product, channel]*\n",
    "                    pExpectedReve[customer, product, channel]\n",
    "                );\n",
    "\n",
    "solve maximize sum(customer in 1..pCustomersN,\n",
    "                   product in 1..pProductsN,\n",
    "                   channel in 1..pChannelsN)\n",
    "                (\n",
    "                    vAssignment[customer, product, channel]*\n",
    "                    pExpectedReve[customer, product, channel]\n",
    "                );"
   ]
  },
  {
   "cell_type": "code",
   "execution_count": 21,
   "metadata": {
    "slideshow": {
     "slide_type": "subslide"
    }
   },
   "outputs": [
    {
     "name": "stdout",
     "output_type": "stream",
     "text": [
      "Total reve 1.0\n",
      "Offer product:1 to customer 2 using channel 1\n",
      "Offer product:2 to customer 2 using channel 2\n"
     ]
    }
   ],
   "source": [
    "print(f\"Total reve {vTotalMargin}\")\n",
    "for customer in range(len(vAssignment)):\n",
    "    for product in range(len(vAssignment[customer])):\n",
    "        for channel in range(len(vAssignment[customer][product])):\n",
    "            if vAssignment[customer][product][channel] > 0:\n",
    "                print(f\"Offer product:{product+1} to customer {customer+1} using channel {channel+1}\")"
   ]
  },
  {
   "cell_type": "markdown",
   "metadata": {},
   "source": [
    "### What would be a solution if we set budget to 1.0?"
   ]
  },
  {
   "cell_type": "code",
   "execution_count": 22,
   "metadata": {
    "slideshow": {
     "slide_type": "subslide"
    }
   },
   "outputs": [],
   "source": [
    "%%minizinc -m bind --data small_dataset_whatif.json\n",
    "%Parameters\n",
    "int: pCustomersN;\n",
    "int: pProductsN;\n",
    "int: pChannelsN;\n",
    "array[1..pCustomersN, 1..pProductsN, 1..pChannelsN] of float: pExpectedReve;\n",
    "array[1..pChannelsN] of float: pChannelCosts;\n",
    "float: pMaxBudget = 1.0;\n",
    "array[1..pProductsN] of int: pProductsMinOffersN;\n",
    "float: pMinHurdleReve;\n",
    "\n",
    "%Variables\n",
    "array[1..pCustomersN, 1..pProductsN, 1..pChannelsN] of var 0..1: vAssignment;\n",
    "var float: vTotalMargin;\n",
    "\n",
    "%Constraints\n",
    "constraint sum(customer in 1..pCustomersN, product in 1..pProductsN, channel in 1..pChannelsN)(vAssignment[customer, product, channel]*pChannelCosts[pChannelsN]) <= pMaxBudget;\n",
    "\n",
    "constraint forall(product in 1..pProductsN) (\n",
    "    sum(customer in 1..pCustomersN,\n",
    "        channel in 1..pChannelsN) (\n",
    "              vAssignment[customer, product, channel]\n",
    "    ) >= pProductsMinOffersN[product]);\n",
    "\n",
    "constraint sum(customer in 1..pCustomersN,\n",
    "               product in 1..pProductsN,\n",
    "               channel in 1..pChannelsN)\n",
    "            (\n",
    "                vAssignment[customer, product, channel]*pExpectedReve[customer, product, channel]\n",
    "            ) >= \n",
    "            (1+pMinHurdleReve)*sum(customer in 1..pCustomersN,\n",
    "                                   product in 1..pProductsN,\n",
    "                                   channel in 1..pChannelsN)\n",
    "                                    (\n",
    "                                        vAssignment[customer, product, channel]*pChannelCosts[pChannelsN]\n",
    "                                    );\n",
    "\n",
    "%product to customer only via max one channel\n",
    "constraint forall(customer in 1..pCustomersN,\n",
    "                  product in 1..pProductsN) (\n",
    "    sum(channel in 1..pChannelsN)(\n",
    "        vAssignment[customer, product, channel]\n",
    "    ) <= 1 \n",
    ");\n",
    "\n",
    "%total margin\n",
    "constraint vTotalMargin = sum(customer in 1..pCustomersN,\n",
    "                   product in 1..pProductsN,\n",
    "                   channel in 1..pChannelsN)\n",
    "                (\n",
    "                    vAssignment[customer, product, channel]*\n",
    "                    pExpectedReve[customer, product, channel]\n",
    "                );\n",
    "\n",
    "solve maximize sum(customer in 1..pCustomersN,\n",
    "                   product in 1..pProductsN,\n",
    "                   channel in 1..pChannelsN)\n",
    "                (\n",
    "                    vAssignment[customer, product, channel]*\n",
    "                    pExpectedReve[customer, product, channel]\n",
    "                );"
   ]
  },
  {
   "cell_type": "code",
   "execution_count": 23,
   "metadata": {
    "slideshow": {
     "slide_type": "subslide"
    }
   },
   "outputs": [
    {
     "name": "stdout",
     "output_type": "stream",
     "text": [
      "Total reve 1.8\n",
      "Offer product:1 to customer 1 using channel 1\n",
      "Offer product:2 to customer 1 using channel 1\n",
      "Offer product:1 to customer 2 using channel 1\n",
      "Offer product:2 to customer 2 using channel 2\n"
     ]
    }
   ],
   "source": [
    "print(f\"Total reve {vTotalMargin}\")\n",
    "for customer in range(len(vAssignment)):\n",
    "    for product in range(len(vAssignment[customer])):\n",
    "        for channel in range(len(vAssignment[customer][product])):\n",
    "            if vAssignment[customer][product][channel] > 0:\n",
    "                print(f\"Offer product:{product+1} to customer {customer+1} using channel {channel+1}\")"
   ]
  },
  {
   "cell_type": "markdown",
   "metadata": {},
   "source": [
    "# Technical addon "
   ]
  },
  {
   "cell_type": "markdown",
   "metadata": {},
   "source": [
    "## Custom IDE"
   ]
  },
  {
   "cell_type": "markdown",
   "metadata": {},
   "source": [
    "You can download custom IDE using this [link](https://www.minizinc.org/doc-2.5.5/en/installation.html). It is the easiest way to use *minizinc*."
   ]
  },
  {
   "cell_type": "markdown",
   "metadata": {},
   "source": [
    "![mzn_ide](images/mzn-ide-playground4.jpg)"
   ]
  },
  {
   "cell_type": "markdown",
   "metadata": {},
   "source": [
    "## Using Jupyter Notebook"
   ]
  },
  {
   "cell_type": "markdown",
   "metadata": {},
   "source": [
    "Extension `iminizinc` allows you to run minizinc models directly in cells.\n",
    "\n",
    "After loading the extension you can use magic escape `%%minizinc`"
   ]
  },
  {
   "cell_type": "code",
   "execution_count": null,
   "metadata": {},
   "outputs": [
    {
     "data": {
      "application/javascript": "\"use strict\";\n\nCodeMirror.defineMode(\"text/minizinc\", function(config) {\n\n  var isOperatorChar = /[+\\-*=<>\\/]/;\n\n  var keywords = {\"array\":true,\n  \"bool\":true,\n  \"case\":true,\n  \"constraint\":true,\n  \"diff\":true,\n  \"div\":true,\n  \"else\":true,\n  \"elseif\":true,\n  \"endif\":true,\n  \"enum\":true,\n  \"false\":true,\n  \"float\":true,\n  \"function\":true,\n  \"if\":true,\n  \"in\":true,\n  \"include\":true,\n  \"int\":true,\n  \"intersect\":true,\n  \"let\":true,\n  \"list\":true,\n  \"maximize\":true,\n  \"minimize\":true,\n  \"mod\":true,\n  \"not\":true,\n  \"of\":true,\n  \"op\":true,\n  \"output\":true,\n  \"par\":true,\n  \"predicate\":true,\n  \"record\":true,\n  \"satisfy\":true,\n  \"set\":true,\n  \"solve\":true,\n  \"string\":true,\n  \"subset\":true,\n  \"superset\":true,\n  \"symdiff\":true,\n  \"test\":true,\n  \"then\":true,\n  \"true\":true,\n  \"tuple\":true,\n  \"type\":true,\n  \"union\":true,\n  \"var\":true,\n  \"where\":true,\n  \"xor\":true};\n\n  var punc = \":;,.(){}[]\";\n\n  function tokenBase(stream, state) {\n    var ch = stream.next();\n    if (ch == '\"') {\n      state.tokenize.push(tokenString);\n      return tokenString(stream, state);\n    }\n    if (/[\\d\\.]/.test(ch)) {\n      if (ch == \".\") {\n        stream.match(/^[0-9]+([eE][\\-+]?[0-9]+)?/);\n      } else if (ch == \"0\") {\n        stream.match(/^[xX][0-9a-fA-F]+/) || stream.match(/^0[0-7]+/);\n      } else {\n        stream.match(/^[0-9]*\\.?[0-9]*([eE][\\-+]?[0-9]+)?/);\n      }\n      return \"number\";\n    }\n    if (ch == \"/\") {\n      if (stream.eat(\"*\")) {\n        state.tokenize.push(tokenComment);\n        return tokenComment(stream, state);\n      }\n    }\n    if (ch == \"%\") {\n      stream.skipToEnd();\n      return \"comment\";\n    }\n    if (isOperatorChar.test(ch)) {\n      stream.eatWhile(isOperatorChar);\n      return \"operator\";\n    }\n    if (punc.indexOf(ch) > -1) {\n      return \"punctuation\";\n    }\n    stream.eatWhile(/[\\w\\$_\\xa1-\\uffff]/);\n    var cur = stream.current();\n    if (keywords.propertyIsEnumerable(cur)) {\n      return \"keyword\";\n    }\n    return \"variable\";\n  }\n\n  function tokenComment(stream, state) {\n    var maybeEnd = false, ch;\n    while (ch = stream.next()) {\n      if (ch == \"/\" && maybeEnd) {\n        state.tokenize.pop();\n        break;\n      }\n      maybeEnd = (ch == \"*\");\n    }\n    return \"comment\";\n  }\n\n  function tokenUntilClosingParen() {\n    var depth = 0;\n    return function(stream, state, prev) {\n      var inner = tokenBase(stream, state, prev);\n      console.log(\"untilClosing\",inner,stream.current());\n      if (inner == \"punctuation\") {\n        if (stream.current() == \"(\") {\n          ++depth;\n        } else if (stream.current() == \")\") {\n          if (depth == 0) {\n            stream.backUp(1)\n            state.tokenize.pop()\n            return state.tokenize[state.tokenize.length - 1](stream, state)\n          } else {\n            --depth;\n          }\n        }\n      }\n      return inner;\n    }\n  }\n\n  function tokenString(stream, state) {\n    var escaped = false, next, end = false;\n    while ((next = stream.next()) != null) {\n      if (next=='(' && escaped) {\n        state.tokenize.push(tokenUntilClosingParen());\n        return \"string\";\n      }\n      if (next == '\"' && !escaped) {end = true; break;}\n      escaped = !escaped && next == \"\\\\\";\n    }\n    if (end || !escaped)\n      state.tokenize.pop();\n    return \"string\";\n  }\n\n  return {\n    startState: function(basecolumn) {\n      return {\n        tokenize: []\n      };\n    },\n\n    token: function(stream, state) {\n      if (stream.eatSpace()) return null;\n      var style = (state.tokenize[state.tokenize.length - 1] || tokenBase)(stream, state);\n      console.log(\"token\",style);\n      return style;\n    },\n\n    blockCommentStart: \"/*\",\n    blockCommentEnd: \"*/\",\n    lineComment: \"%\"\n  };\n});\n\nCodeMirror.defineMIME(\"text/minizinc\", \"text/minizinc\");\n\nJupyter.CodeCell.options_default.highlight_modes['magic_text/minizinc'] = {'reg':[/^%%minizinc/]} ;\n\nJupyter.notebook.get_cells().map(function(cell){\n  if (cell.cell_type == 'code'){ cell.auto_highlight(); }\n}) ;\n",
      "text/plain": [
       "<IPython.core.display.Javascript object>"
      ]
     },
     "metadata": {},
     "output_type": "display_data"
    },
    {
     "name": "stdout",
     "output_type": "stream",
     "text": [
      "MiniZinc to FlatZinc converter, version 2.5.3\n",
      "Copyright (C) 2014-2020 Monash University, NICTA, Data61\n"
     ]
    }
   ],
   "source": [
    " %load_ext iminizinc"
   ]
  },
  {
   "cell_type": "code",
   "execution_count": null,
   "metadata": {},
   "outputs": [],
   "source": [
    "n = 10"
   ]
  },
  {
   "cell_type": "code",
   "execution_count": null,
   "metadata": {},
   "outputs": [
    {
     "name": "stderr",
     "output_type": "stream",
     "text": [
      "UsageError: Cell magic `%%minizinc` not found.\n"
     ]
    }
   ],
   "source": [
    "%%minizinc\n",
    "include \"alldifferent.mzn\";\n",
    "int: n;\n",
    "array[1..n] of var 1..n: queens;\n",
    "constraint alldifferent(queens);\n",
    "constraint alldifferent([queens[i]+i | i in 1..n]);\n",
    "constraint alldifferent([queens[i]-i | i in 1..n]);\n",
    "solve satisfy;"
   ]
  },
  {
   "cell_type": "code",
   "execution_count": null,
   "metadata": {},
   "outputs": [
    {
     "name": "stdout",
     "output_type": "stream",
     "text": [
      "\u001b[0;31mDocstring:\u001b[0m\n",
      "::\n",
      "\n",
      "  %minizinc [-v] [-s] [-m {return,bind}] [-a] [-t TIME_LIMIT]\n",
      "                [--solver SOLVER] [--data [DATA ...]]\n",
      "                [model ...]\n",
      "\n",
      "MiniZinc magic\n",
      "\n",
      "positional arguments:\n",
      "  model                 Model to solve\n",
      "\n",
      "options:\n",
      "  -v, --verbose         Verbose output\n",
      "  -s, --statistics      Output statistics\n",
      "  -m <{return,bind}>, --solution-mode <{return,bind}>\n",
      "                        Whether to return solution(s) or bind them to\n",
      "                        variables\n",
      "  -a, --all-solutions   Return all solutions for satisfaction problems,\n",
      "                        intermediate solutions for optimisation problems.\n",
      "                        Implies -o.\n",
      "  -t TIME_LIMIT, --time-limit TIME_LIMIT\n",
      "                        Time limit in milliseconds (includes compilation and\n",
      "                        solving)\n",
      "  --solver SOLVER       Solver to run\n",
      "  --data <[DATA ...]>   Data files\n",
      "\u001b[0;31mFile:\u001b[0m      /workspaces/conf-dss2021/venv/lib/python3.10/site-packages/iminizinc/mzn.py\n"
     ]
    }
   ],
   "source": [
    "%%minizinc?"
   ]
  },
  {
   "cell_type": "markdown",
   "metadata": {},
   "source": [
    "## Using Python"
   ]
  },
  {
   "cell_type": "markdown",
   "metadata": {},
   "source": [
    "Package [minizinc](https://minizinc-python.readthedocs.io/en/latest/getting_started.html) gives you possibility to run `minizinc` directly from Python."
   ]
  },
  {
   "cell_type": "code",
   "execution_count": 64,
   "metadata": {},
   "outputs": [],
   "source": [
    "## Required only in notebook\n",
    "import nest_asyncio\n",
    "nest_asyncio.apply()"
   ]
  },
  {
   "cell_type": "code",
   "execution_count": 104,
   "metadata": {},
   "outputs": [
    {
     "name": "stdout",
     "output_type": "stream",
     "text": [
      "Solution objective: 1.8\n",
      "Offer product:0 to customer 0 using channel 0\n",
      "Offer product:1 to customer 0 using channel 0\n",
      "Offer product:0 to customer 1 using channel 0\n",
      "Offer product:1 to customer 1 using channel 1\n"
     ]
    }
   ],
   "source": [
    "from minizinc import Instance, Model, Solver\n",
    "\n",
    "# Load n-Queens model from file\n",
    "model = Model(\"dss-marketing-optimization.mzn\")\n",
    "model.add_file(\"small_dataset.json\", parse_data=True)\n",
    "# Find the MiniZinc solver configuration for Gecode\n",
    "gecode = Solver.lookup(\"gecode\")\n",
    "# Create an Instance of the model for Gecode\n",
    "instance = Instance(gecode, model)\n",
    "result = instance.solve()\n",
    "print(f\"Solution objective: {result['objective']}\")\n",
    "for customer in range(instance[\"pCustomersN\"]):\n",
    "    for product in range(instance[\"pProductsN\"]):\n",
    "        for channel in range(instance[\"pChannelsN\"]):\n",
    "            if result[\"vAssignment\"][customer][product][channel] > 0.5:\n",
    "                print(f\"Offer product:{product} to customer {customer} using channel {channel}\")"
   ]
  }
 ],
 "metadata": {
  "celltoolbar": "Slideshow",
  "interpreter": {
   "hash": "eb70868d14124c03f4395e1ac8ac4ec178126810de6925a3fb4af24601cd5483"
  },
  "kernelspec": {
   "display_name": "Python 3 (ipykernel)",
   "language": "python",
   "name": "python3"
  },
  "language_info": {
   "codemirror_mode": {
    "name": "ipython",
    "version": 3
   },
   "file_extension": ".py",
   "mimetype": "text/x-python",
   "name": "python",
   "nbconvert_exporter": "python",
   "pygments_lexer": "ipython3",
   "version": "3.10.0"
  }
 },
 "nbformat": 4,
 "nbformat_minor": 2
}
