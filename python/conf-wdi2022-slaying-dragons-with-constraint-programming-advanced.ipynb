{
 "cells": [
  {
   "cell_type": "markdown",
   "metadata": {},
   "source": [
    "# Advanced techniques"
   ]
  },
  {
   "cell_type": "markdown",
   "metadata": {},
   "source": [
    "First we need to activate minzinc Jupyter extension"
   ]
  },
  {
   "cell_type": "code",
   "execution_count": 1,
   "metadata": {},
   "outputs": [
    {
     "data": {
      "application/javascript": "\"use strict\";\n\nCodeMirror.defineMode(\"text/minizinc\", function(config) {\n\n  var isOperatorChar = /[+\\-*=<>\\/]/;\n\n  var keywords = {\"array\":true,\n  \"bool\":true,\n  \"case\":true,\n  \"constraint\":true,\n  \"diff\":true,\n  \"div\":true,\n  \"else\":true,\n  \"elseif\":true,\n  \"endif\":true,\n  \"enum\":true,\n  \"false\":true,\n  \"float\":true,\n  \"function\":true,\n  \"if\":true,\n  \"in\":true,\n  \"include\":true,\n  \"int\":true,\n  \"intersect\":true,\n  \"let\":true,\n  \"list\":true,\n  \"maximize\":true,\n  \"minimize\":true,\n  \"mod\":true,\n  \"not\":true,\n  \"of\":true,\n  \"op\":true,\n  \"output\":true,\n  \"par\":true,\n  \"predicate\":true,\n  \"record\":true,\n  \"satisfy\":true,\n  \"set\":true,\n  \"solve\":true,\n  \"string\":true,\n  \"subset\":true,\n  \"superset\":true,\n  \"symdiff\":true,\n  \"test\":true,\n  \"then\":true,\n  \"true\":true,\n  \"tuple\":true,\n  \"type\":true,\n  \"union\":true,\n  \"var\":true,\n  \"where\":true,\n  \"xor\":true};\n\n  var punc = \":;,.(){}[]\";\n\n  function tokenBase(stream, state) {\n    var ch = stream.next();\n    if (ch == '\"') {\n      state.tokenize.push(tokenString);\n      return tokenString(stream, state);\n    }\n    if (/[\\d\\.]/.test(ch)) {\n      if (ch == \".\") {\n        stream.match(/^[0-9]+([eE][\\-+]?[0-9]+)?/);\n      } else if (ch == \"0\") {\n        stream.match(/^[xX][0-9a-fA-F]+/) || stream.match(/^0[0-7]+/);\n      } else {\n        stream.match(/^[0-9]*\\.?[0-9]*([eE][\\-+]?[0-9]+)?/);\n      }\n      return \"number\";\n    }\n    if (ch == \"/\") {\n      if (stream.eat(\"*\")) {\n        state.tokenize.push(tokenComment);\n        return tokenComment(stream, state);\n      }\n    }\n    if (ch == \"%\") {\n      stream.skipToEnd();\n      return \"comment\";\n    }\n    if (isOperatorChar.test(ch)) {\n      stream.eatWhile(isOperatorChar);\n      return \"operator\";\n    }\n    if (punc.indexOf(ch) > -1) {\n      return \"punctuation\";\n    }\n    stream.eatWhile(/[\\w\\$_\\xa1-\\uffff]/);\n    var cur = stream.current();\n    if (keywords.propertyIsEnumerable(cur)) {\n      return \"keyword\";\n    }\n    return \"variable\";\n  }\n\n  function tokenComment(stream, state) {\n    var maybeEnd = false, ch;\n    while (ch = stream.next()) {\n      if (ch == \"/\" && maybeEnd) {\n        state.tokenize.pop();\n        break;\n      }\n      maybeEnd = (ch == \"*\");\n    }\n    return \"comment\";\n  }\n\n  function tokenUntilClosingParen() {\n    var depth = 0;\n    return function(stream, state, prev) {\n      var inner = tokenBase(stream, state, prev);\n      console.log(\"untilClosing\",inner,stream.current());\n      if (inner == \"punctuation\") {\n        if (stream.current() == \"(\") {\n          ++depth;\n        } else if (stream.current() == \")\") {\n          if (depth == 0) {\n            stream.backUp(1)\n            state.tokenize.pop()\n            return state.tokenize[state.tokenize.length - 1](stream, state)\n          } else {\n            --depth;\n          }\n        }\n      }\n      return inner;\n    }\n  }\n\n  function tokenString(stream, state) {\n    var escaped = false, next, end = false;\n    while ((next = stream.next()) != null) {\n      if (next=='(' && escaped) {\n        state.tokenize.push(tokenUntilClosingParen());\n        return \"string\";\n      }\n      if (next == '\"' && !escaped) {end = true; break;}\n      escaped = !escaped && next == \"\\\\\";\n    }\n    if (end || !escaped)\n      state.tokenize.pop();\n    return \"string\";\n  }\n\n  return {\n    startState: function(basecolumn) {\n      return {\n        tokenize: []\n      };\n    },\n\n    token: function(stream, state) {\n      if (stream.eatSpace()) return null;\n      var style = (state.tokenize[state.tokenize.length - 1] || tokenBase)(stream, state);\n      console.log(\"token\",style);\n      return style;\n    },\n\n    blockCommentStart: \"/*\",\n    blockCommentEnd: \"*/\",\n    lineComment: \"%\"\n  };\n});\n\nCodeMirror.defineMIME(\"text/minizinc\", \"text/minizinc\");\n\nJupyter.CodeCell.options_default.highlight_modes['magic_text/minizinc'] = {'reg':[/^%%minizinc/]} ;\n\nJupyter.notebook.get_cells().map(function(cell){\n  if (cell.cell_type == 'code'){ cell.auto_highlight(); }\n}) ;\n",
      "text/plain": [
       "<IPython.core.display.Javascript object>"
      ]
     },
     "metadata": {},
     "output_type": "display_data"
    },
    {
     "name": "stdout",
     "output_type": "stream",
     "text": [
      "MiniZinc to FlatZinc converter, version 2.6.2, build 497830444\n",
      "Copyright (C) 2014-2022 Monash University, NICTA, Data61\n"
     ]
    }
   ],
   "source": [
    "%load_ext iminizinc"
   ]
  },
  {
   "cell_type": "markdown",
   "metadata": {},
   "source": [
    "## Global constraints"
   ]
  },
  {
   "cell_type": "markdown",
   "metadata": {},
   "source": [
    "Global constraints are constraints that handle more than 2 variables and due this are able to reduce domains better. Some well known global constraints:\n",
    "\n",
    "* all_different\n",
    "* element\n",
    "* count\n",
    "* cumulative\n",
    "* table\n",
    "  \n",
    "\n",
    "There is [global constraints catalogue](https://sofdem.github.io/gccat/gccat/theindex.html)."
   ]
  },
  {
   "cell_type": "markdown",
   "metadata": {},
   "source": [
    "### N-Queens problem"
   ]
  },
  {
   "cell_type": "markdown",
   "metadata": {},
   "source": [
    "N-Queens problem is a generalization of [8 queens problem](https://en.wikipedia.org/wiki/Eight_queens_puzzle). This is the problem of placing eight chess queens on an 8×8 chessboard so that no two queens threaten each other."
   ]
  },
  {
   "cell_type": "markdown",
   "metadata": {},
   "source": [
    "![](images/8_queens_example.png)"
   ]
  },
  {
   "cell_type": "markdown",
   "metadata": {},
   "source": [
    "### Solution without global constraints"
   ]
  },
  {
   "cell_type": "code",
   "execution_count": null,
   "metadata": {},
   "outputs": [],
   "source": [
    "%%minizinc\n",
    "% \n",
    "% n queens problem in MiniZinc.\n",
    "% \n",
    "% This MiniZinc model was created by Hakan Kjellerstrand, hakank@bonetmail.com\n",
    "% See also my MiniZinc page: http://www.hakank.org/minizinc\n",
    "%\n",
    "include \"globals.mzn\";\n",
    "\n",
    "int: n;\n",
    "array[1..n] of var 1..n: queens;\n",
    "\n",
    "solve :: int_search(\n",
    "        queens, \n",
    "        first_fail, \n",
    "        indomain_min, \n",
    "        complete) \n",
    "    satisfy;\n",
    "\n",
    "% solve satisfy;\n",
    "\n",
    "constraint\n",
    "    forall(i, j in 1..n where i < j) (\n",
    "         queens[i] != queens[j] /\\\n",
    "         queens[i] + i != queens[j] + j /\\\n",
    "         queens[i] - i != queens[j] - j\n",
    "    ) \n",
    " ;\n",
    "\n",
    "output [\n",
    "  show(queens) ++ \"\\n\"\n",
    "\n",
    "];\n",
    "\n",
    "% data\n",
    "n = 1000;"
   ]
  },
  {
   "cell_type": "markdown",
   "metadata": {},
   "source": [
    "### Solution using global constraints"
   ]
  },
  {
   "cell_type": "code",
   "execution_count": null,
   "metadata": {},
   "outputs": [],
   "source": [
    "%%minizinc\n",
    "% \n",
    "% n queens problem in MiniZinc.\n",
    "% \n",
    "% Using alldifferent. \n",
    "%\n",
    "% \n",
    "% This MiniZinc model was created by Hakan Kjellerstrand, hakank@bonetmail.com\n",
    "% See also my MiniZinc page: http://www.hakank.org/minizinc\n",
    "%\n",
    "include \"globals.mzn\";\n",
    "\n",
    "int: n;\n",
    "array[1..n] of var 1..n: queens;\n",
    "\n",
    "\n",
    "solve :: int_search(\n",
    "        queens, \n",
    "        first_fail,\n",
    "        indomain_median,\n",
    "        complete\n",
    "       ) \n",
    "     satisfy;\n",
    "\n",
    "% solve satisfy;\n",
    "\n",
    "% Chuffed (with --free) seems to perform better without :: domain\n",
    "% on the first constraint.\n",
    "constraint all_different(queens); % :: domain;\n",
    "constraint all_different([queens[i]+i | i in 1..n]); % :: domain;\n",
    "constraint all_different([queens[i]-i | i in 1..n]); % :: domain;\n",
    "\n",
    "output \n",
    "[\n",
    "  show(queens)\n",
    "] \n",
    "% ++ \n",
    "% [\n",
    "%   if j = 1 then \"\\n\" else \"\" endif ++\n",
    "%      if fix(queens[i]) = j then          \n",
    "%         % show_int(2,j)\n",
    "%         \"Q\"\n",
    "%      else\n",
    "%         \"#\"\n",
    "%      endif\n",
    "%   | i in 1..n, j in 1..n\n",
    "% ] ++\n",
    "% [\"\\n\"]\n",
    ";\n",
    "\n",
    "% data\n",
    "n = 1000;"
   ]
  },
  {
   "cell_type": "markdown",
   "metadata": {},
   "source": [
    "### Comparison"
   ]
  },
  {
   "cell_type": "markdown",
   "metadata": {},
   "source": [
    "Using global *all_different* constraint lead to 10x speedup (28s to 2.8s)."
   ]
  },
  {
   "cell_type": "markdown",
   "metadata": {},
   "source": [
    "## Search strategy"
   ]
  },
  {
   "cell_type": "markdown",
   "metadata": {},
   "source": [
    "### Variable selection strategy"
   ]
  },
  {
   "cell_type": "markdown",
   "metadata": {},
   "source": [
    "I will compare three strategies:\n",
    "\n",
    "* *input_order*\n",
    "* *smallest*\n",
    "* *first_fail*"
   ]
  },
  {
   "cell_type": "markdown",
   "metadata": {},
   "source": [
    "#### *input_order* strategy"
   ]
  },
  {
   "cell_type": "code",
   "execution_count": null,
   "metadata": {},
   "outputs": [],
   "source": [
    "%%minizinc\n",
    "% \n",
    "% n queens problem in MiniZinc.\n",
    "% \n",
    "% Using alldifferent. \n",
    "%\n",
    "% \n",
    "% This MiniZinc model was created by Hakan Kjellerstrand, hakank@bonetmail.com\n",
    "% See also my MiniZinc page: http://www.hakank.org/minizinc\n",
    "%\n",
    "include \"globals.mzn\";\n",
    "\n",
    "int: n;\n",
    "array[1..n] of var 1..n: queens;\n",
    "\n",
    "\n",
    "solve :: int_search(\n",
    "        queens, \n",
    "        input_order,\n",
    "        indomain_median,\n",
    "        complete\n",
    "       ) \n",
    "     satisfy;\n",
    "\n",
    "% solve satisfy;\n",
    "\n",
    "% Chuffed (with --free) seems to perform better without :: domain\n",
    "% on the first constraint.\n",
    "constraint all_different(queens); % :: domain;\n",
    "constraint all_different([queens[i]+i | i in 1..n]); % :: domain;\n",
    "constraint all_different([queens[i]-i | i in 1..n]); % :: domain;\n",
    "\n",
    "output \n",
    "[\n",
    "  show(queens)\n",
    "] \n",
    "% ++ \n",
    "% [\n",
    "%   if j = 1 then \"\\n\" else \"\" endif ++\n",
    "%      if fix(queens[i]) = j then          \n",
    "%         % show_int(2,j)\n",
    "%         \"Q\"\n",
    "%      else\n",
    "%         \"#\"\n",
    "%      endif\n",
    "%   | i in 1..n, j in 1..n\n",
    "% ] ++\n",
    "% [\"\\n\"]\n",
    ";\n",
    "\n",
    "% data\n",
    "n = 1000;"
   ]
  },
  {
   "cell_type": "markdown",
   "metadata": {},
   "source": [
    "#### *smallest* strategy"
   ]
  },
  {
   "cell_type": "code",
   "execution_count": null,
   "metadata": {},
   "outputs": [],
   "source": [
    "%%minizinc\n",
    "% \n",
    "% n queens problem in MiniZinc.\n",
    "% \n",
    "% Using alldifferent. \n",
    "%\n",
    "% \n",
    "% This MiniZinc model was created by Hakan Kjellerstrand, hakank@bonetmail.com\n",
    "% See also my MiniZinc page: http://www.hakank.org/minizinc\n",
    "%\n",
    "include \"globals.mzn\";\n",
    "\n",
    "int: n;\n",
    "array[1..n] of var 1..n: queens;\n",
    "\n",
    "\n",
    "solve :: int_search(\n",
    "        queens, \n",
    "        smallest,\n",
    "        indomain_median,\n",
    "        complete\n",
    "       ) \n",
    "     satisfy;\n",
    "\n",
    "% solve satisfy;\n",
    "\n",
    "% Chuffed (with --free) seems to perform better without :: domain\n",
    "% on the first constraint.\n",
    "constraint all_different(queens); % :: domain;\n",
    "constraint all_different([queens[i]+i | i in 1..n]); % :: domain;\n",
    "constraint all_different([queens[i]-i | i in 1..n]); % :: domain;\n",
    "\n",
    "output \n",
    "[\n",
    "  show(queens)\n",
    "] \n",
    "% ++ \n",
    "% [\n",
    "%   if j = 1 then \"\\n\" else \"\" endif ++\n",
    "%      if fix(queens[i]) = j then          \n",
    "%         % show_int(2,j)\n",
    "%         \"Q\"\n",
    "%      else\n",
    "%         \"#\"\n",
    "%      endif\n",
    "%   | i in 1..n, j in 1..n\n",
    "% ] ++\n",
    "% [\"\\n\"]\n",
    ";\n",
    "\n",
    "% data\n",
    "n = 1000;"
   ]
  },
  {
   "cell_type": "markdown",
   "metadata": {},
   "source": [
    "#### *first-fail* strategy"
   ]
  },
  {
   "cell_type": "code",
   "execution_count": null,
   "metadata": {},
   "outputs": [],
   "source": [
    "%%minizinc\n",
    "% \n",
    "% n queens problem in MiniZinc.\n",
    "% \n",
    "% Using alldifferent. \n",
    "%\n",
    "% \n",
    "% This MiniZinc model was created by Hakan Kjellerstrand, hakank@bonetmail.com\n",
    "% See also my MiniZinc page: http://www.hakank.org/minizinc\n",
    "%\n",
    "include \"globals.mzn\";\n",
    "\n",
    "int: n;\n",
    "array[1..n] of var 1..n: queens;\n",
    "\n",
    "\n",
    "solve :: int_search(\n",
    "        queens, \n",
    "        first_fail,\n",
    "        indomain_median,\n",
    "        complete\n",
    "       ) \n",
    "     satisfy;\n",
    "\n",
    "% solve satisfy;\n",
    "\n",
    "% Chuffed (with --free) seems to perform better without :: domain\n",
    "% on the first constraint.\n",
    "constraint all_different(queens); % :: domain;\n",
    "constraint all_different([queens[i]+i | i in 1..n]); % :: domain;\n",
    "constraint all_different([queens[i]-i | i in 1..n]); % :: domain;\n",
    "\n",
    "output \n",
    "[\n",
    "  show(queens)\n",
    "] \n",
    "% ++ \n",
    "% [\n",
    "%   if j = 1 then \"\\n\" else \"\" endif ++\n",
    "%      if fix(queens[i]) = j then          \n",
    "%         % show_int(2,j)\n",
    "%         \"Q\"\n",
    "%      else\n",
    "%         \"#\"\n",
    "%      endif\n",
    "%   | i in 1..n, j in 1..n\n",
    "% ] ++\n",
    "% [\"\\n\"]\n",
    ";\n",
    "\n",
    "% data\n",
    "n = 1000;"
   ]
  },
  {
   "cell_type": "markdown",
   "metadata": {},
   "source": [
    "#### Comparison summary"
   ]
  },
  {
   "cell_type": "markdown",
   "metadata": {},
   "source": [
    "|Strategy   | Time   |\n",
    "|---|---|\n",
    "|input_order | Inf |\n",
    "|smallest | Inf  |\n",
    "|first-fail   | 2.8s  |"
   ]
  },
  {
   "cell_type": "markdown",
   "metadata": {},
   "source": [
    "### Value selection strategy"
   ]
  },
  {
   "cell_type": "markdown",
   "metadata": {},
   "source": [
    "I will keep *first-fail* strategy and consider following value selection strategies:\n",
    "\n",
    "* indomain_min\n",
    "* indomain_random\n",
    "* indomain_median\n",
    "* indomain_split"
   ]
  },
  {
   "cell_type": "markdown",
   "metadata": {},
   "source": [
    "#### indomain_min"
   ]
  },
  {
   "cell_type": "code",
   "execution_count": null,
   "metadata": {},
   "outputs": [],
   "source": [
    "%%minizinc\n",
    "% \n",
    "% n queens problem in MiniZinc.\n",
    "% \n",
    "% Using alldifferent. \n",
    "%\n",
    "% \n",
    "% This MiniZinc model was created by Hakan Kjellerstrand, hakank@bonetmail.com\n",
    "% See also my MiniZinc page: http://www.hakank.org/minizinc\n",
    "%\n",
    "include \"globals.mzn\";\n",
    "\n",
    "int: n;\n",
    "array[1..n] of var 1..n: queens;\n",
    "\n",
    "\n",
    "solve :: int_search(\n",
    "        queens, \n",
    "        first_fail,\n",
    "        indomain_min,\n",
    "        complete\n",
    "       ) \n",
    "     satisfy;\n",
    "\n",
    "% solve satisfy;\n",
    "\n",
    "% Chuffed (with --free) seems to perform better without :: domain\n",
    "% on the first constraint.\n",
    "constraint all_different(queens); % :: domain;\n",
    "constraint all_different([queens[i]+i | i in 1..n]); % :: domain;\n",
    "constraint all_different([queens[i]-i | i in 1..n]); % :: domain;\n",
    "\n",
    "output \n",
    "[\n",
    "  show(queens)\n",
    "] \n",
    "% ++ \n",
    "% [\n",
    "%   if j = 1 then \"\\n\" else \"\" endif ++\n",
    "%      if fix(queens[i]) = j then          \n",
    "%         % show_int(2,j)\n",
    "%         \"Q\"\n",
    "%      else\n",
    "%         \"#\"\n",
    "%      endif\n",
    "%   | i in 1..n, j in 1..n\n",
    "% ] ++\n",
    "% [\"\\n\"]\n",
    ";\n",
    "\n",
    "% data\n",
    "n = 1000;"
   ]
  },
  {
   "cell_type": "markdown",
   "metadata": {},
   "source": [
    "#### indomain_random"
   ]
  },
  {
   "cell_type": "code",
   "execution_count": null,
   "metadata": {},
   "outputs": [],
   "source": [
    "%%minizinc\n",
    "% \n",
    "% n queens problem in MiniZinc.\n",
    "% \n",
    "% Using alldifferent. \n",
    "%\n",
    "% \n",
    "% This MiniZinc model was created by Hakan Kjellerstrand, hakank@bonetmail.com\n",
    "% See also my MiniZinc page: http://www.hakank.org/minizinc\n",
    "%\n",
    "include \"globals.mzn\";\n",
    "\n",
    "int: n;\n",
    "array[1..n] of var 1..n: queens;\n",
    "\n",
    "\n",
    "solve :: int_search(\n",
    "        queens, \n",
    "        first_fail,\n",
    "        indomain_random,\n",
    "        complete\n",
    "       ) \n",
    "     satisfy;\n",
    "\n",
    "% solve satisfy;\n",
    "\n",
    "% Chuffed (with --free) seems to perform better without :: domain\n",
    "% on the first constraint.\n",
    "constraint all_different(queens); % :: domain;\n",
    "constraint all_different([queens[i]+i | i in 1..n]); % :: domain;\n",
    "constraint all_different([queens[i]-i | i in 1..n]); % :: domain;\n",
    "\n",
    "output \n",
    "[\n",
    "  show(queens)\n",
    "] \n",
    "% ++ \n",
    "% [\n",
    "%   if j = 1 then \"\\n\" else \"\" endif ++\n",
    "%      if fix(queens[i]) = j then          \n",
    "%         % show_int(2,j)\n",
    "%         \"Q\"\n",
    "%      else\n",
    "%         \"#\"\n",
    "%      endif\n",
    "%   | i in 1..n, j in 1..n\n",
    "% ] ++\n",
    "% [\"\\n\"]\n",
    ";\n",
    "\n",
    "% data\n",
    "n = 1000;"
   ]
  },
  {
   "cell_type": "markdown",
   "metadata": {},
   "source": [
    "#### indomain_split"
   ]
  },
  {
   "cell_type": "code",
   "execution_count": null,
   "metadata": {},
   "outputs": [],
   "source": [
    "%%minizinc\n",
    "% \n",
    "% n queens problem in MiniZinc.\n",
    "% \n",
    "% Using alldifferent. \n",
    "%\n",
    "% \n",
    "% This MiniZinc model was created by Hakan Kjellerstrand, hakank@bonetmail.com\n",
    "% See also my MiniZinc page: http://www.hakank.org/minizinc\n",
    "%\n",
    "include \"globals.mzn\";\n",
    "\n",
    "int: n;\n",
    "array[1..n] of var 1..n: queens;\n",
    "\n",
    "\n",
    "solve :: int_search(\n",
    "        queens, \n",
    "        first_fail,\n",
    "        indomain_split,\n",
    "        complete\n",
    "       ) \n",
    "     satisfy;\n",
    "\n",
    "% solve satisfy;\n",
    "\n",
    "% Chuffed (with --free) seems to perform better without :: domain\n",
    "% on the first constraint.\n",
    "constraint all_different(queens); % :: domain;\n",
    "constraint all_different([queens[i]+i | i in 1..n]); % :: domain;\n",
    "constraint all_different([queens[i]-i | i in 1..n]); % :: domain;\n",
    "\n",
    "output \n",
    "[\n",
    "  show(queens)\n",
    "] \n",
    "% ++ \n",
    "% [\n",
    "%   if j = 1 then \"\\n\" else \"\" endif ++\n",
    "%      if fix(queens[i]) = j then          \n",
    "%         % show_int(2,j)\n",
    "%         \"Q\"\n",
    "%      else\n",
    "%         \"#\"\n",
    "%      endif\n",
    "%   | i in 1..n, j in 1..n\n",
    "% ] ++\n",
    "% [\"\\n\"]\n",
    ";\n",
    "\n",
    "% data\n",
    "n = 1000;"
   ]
  },
  {
   "cell_type": "markdown",
   "metadata": {},
   "source": [
    "#### Comparison summary"
   ]
  },
  {
   "cell_type": "markdown",
   "metadata": {},
   "source": [
    "| Strategy | Time |\n",
    "|----------|------|\n",
    "|indomain_min| 2.1s|\n",
    "|first_fail|2.8s|\n",
    "|indomain_random|5.2s|"
   ]
  },
  {
   "cell_type": "markdown",
   "metadata": {},
   "source": [
    "### Custom strategy"
   ]
  },
  {
   "cell_type": "markdown",
   "metadata": {},
   "source": [
    "#### Jobshop scheduling problem"
   ]
  },
  {
   "cell_type": "markdown",
   "metadata": {},
   "source": [
    "[Following Wikipedia](https://en.wikipedia.org/wiki/Job-shop_scheduling)\n",
    "\n",
    "> Job-shop scheduling or the job-shop problem (JSP) is an optimization problem in computer science and operations research. It is a |variant of optimal job scheduling. In a general job scheduling problem, we are given n jobs J1, J2, ..., Jn of varying processing times, which need to be scheduled on m machines with varying processing power, while trying to minimize the makespan – the total length of the schedule (that is, when all the jobs have finished processing). In the specific variant known as job-shop scheduling, each job consists of a set of operations O1, O2, ..., On which need to be processed in a specific order (known as precedence constraints). Each operation has a specific machine that it needs to be processed on and only one operation in a job can be processed at a given time. A common relaxation is the flexible job shop, where each operation can be processed on any machine of a given set (the machines in each set are identical)."
   ]
  },
  {
   "cell_type": "markdown",
   "metadata": {},
   "source": [
    "![](images/jobshop_example.png)"
   ]
  },
  {
   "cell_type": "markdown",
   "metadata": {},
   "source": [
    "Source: [https://www.kecl.ntt.co.jp/as/members/yamada/galbk.pdf](https://www.kecl.ntt.co.jp/as/members/yamada/galbk.pdf)"
   ]
  },
  {
   "cell_type": "markdown",
   "metadata": {},
   "source": [
    "##### First version"
   ]
  },
  {
   "cell_type": "markdown",
   "metadata": {},
   "source": [
    "First search strategy is straighforward:\n",
    "\n",
    "* Find task with smallest value in its starting time domain (the one we can schedule earliest)\n",
    "* Set starting to minimum value"
   ]
  },
  {
   "cell_type": "code",
   "execution_count": 13,
   "metadata": {},
   "outputs": [
    {
     "name": "stdout",
     "output_type": "stream",
     "text": [
      "\u001b[0;31mDocstring:\u001b[0m\n",
      "::\n",
      "\n",
      "  %minizinc [-v] [-s] [-m {return,bind}] [-a] [-t TIME_LIMIT]\n",
      "                [--solver SOLVER] [--data [DATA ...]]\n",
      "                [model ...]\n",
      "\n",
      "MiniZinc magic\n",
      "\n",
      "positional arguments:\n",
      "  model                 Model to solve\n",
      "\n",
      "optional arguments:\n",
      "  -v, --verbose         Verbose output\n",
      "  -s, --statistics      Output statistics\n",
      "  -m <{return,bind}>, --solution-mode <{return,bind}>\n",
      "                        Whether to return solution(s) or bind them to\n",
      "                        variables\n",
      "  -a, --all-solutions   Return all solutions for satisfaction problems,\n",
      "                        intermediate solutions for optimisation problems.\n",
      "                        Implies -o.\n",
      "  -t TIME_LIMIT, --time-limit TIME_LIMIT\n",
      "                        Time limit in milliseconds (includes compilation and\n",
      "                        solving)\n",
      "  --solver SOLVER       Solver to run\n",
      "  --data <[DATA ...]>   Data files\n",
      "\u001b[0;31mFile:\u001b[0m      ~/projects/conf-wdi2022-slaying-dragons-with-constraint-programming/python/venv/lib/python3.9/site-packages/iminizinc/mzn.py\n"
     ]
    }
   ],
   "source": [
    "%%minizinc?"
   ]
  },
  {
   "cell_type": "code",
   "execution_count": 2,
   "metadata": {},
   "outputs": [],
   "source": [
    "experiments = {}"
   ]
  },
  {
   "cell_type": "code",
   "execution_count": 15,
   "metadata": {},
   "outputs": [
    {
     "name": "stdout",
     "output_type": "stream",
     "text": [
      "MiniZinc to FlatZinc converter, version 2.6.2, build 497830444\n",
      "Copyright (C) 2014-2022 Monash University, NICTA, Data61\n",
      "Parsing file(s) /var/folders/1d/g431hzp941z_qmtsghb8qgb00000gn/T/tmpnflb9jnz/model.mzn' ...\n",
      "processing file '/Applications/MiniZincIDE.app/Contents/Resources/share/minizinc/std/stdlib.mzn'\n",
      "processing file '/Applications/MiniZincIDE.app/Contents/Resources/share/minizinc/std/stdlib/stdlib_internal.mzn'\n",
      "processing file '/Applications/MiniZincIDE.app/Contents/Resources/share/minizinc/std/output.mzn'\n",
      "processing file '/Applications/MiniZincIDE.app/Contents/Resources/share/minizinc/std/output/array2d_bool.mzn'\n",
      "processing file '/Applications/MiniZincIDE.app/Contents/Resources/share/minizinc/std/output/gantt.mzn'\n",
      "processing file '/Applications/MiniZincIDE.app/Contents/Resources/share/minizinc/std/stdlib/stdlib_random.mzn'\n",
      "processing file '/Applications/MiniZincIDE.app/Contents/Resources/share/minizinc/std/stdlib/stdlib_debug.mzn'\n",
      "processing file '/Applications/MiniZincIDE.app/Contents/Resources/share/minizinc/std/stdlib/stdlib_reflect.mzn'\n",
      "processing file '/Applications/MiniZincIDE.app/Contents/Resources/share/minizinc/std/stdlib/stdlib_ite.mzn'\n",
      "processing file '/Applications/MiniZincIDE.app/Contents/Resources/share/minizinc/std/stdlib/stdlib_language.mzn'\n",
      "processing file '/Applications/MiniZincIDE.app/Contents/Resources/share/minizinc/std/stdlib/stdlib_sort.mzn'\n",
      "processing file '/Applications/MiniZincIDE.app/Contents/Resources/share/minizinc/std/stdlib/stdlib_opt.mzn'\n",
      "processing file '/Applications/MiniZincIDE.app/Contents/Resources/share/minizinc/std/stdlib/stdlib_ann.mzn'\n",
      "processing file '/Applications/MiniZincIDE.app/Contents/Resources/share/minizinc/std/stdlib/stdlib_enum.mzn'\n",
      "processing file '/Applications/MiniZincIDE.app/Contents/Resources/share/minizinc/std/stdlib/stdlib_string.mzn'\n",
      "processing file '/Applications/MiniZincIDE.app/Contents/Resources/share/minizinc/std/stdlib/stdlib_set.mzn'\n",
      "processing file '/Applications/MiniZincIDE.app/Contents/Resources/share/minizinc/std/stdlib/stdlib_logic.mzn'\n",
      "processing file '/Applications/MiniZincIDE.app/Contents/Resources/share/minizinc/std/stdlib/stdlib_array.mzn'\n",
      "processing file '/Applications/MiniZincIDE.app/Contents/Resources/share/minizinc/std/stdlib/stdlib_coercion.mzn'\n",
      "processing file '/Applications/MiniZincIDE.app/Contents/Resources/share/minizinc/std/stdlib/stdlib_math.mzn'\n",
      "processing file '/Applications/MiniZincIDE.app/Contents/Resources/share/minizinc/std/stdlib/stdlib_compare.mzn'\n",
      "processing file '/Applications/MiniZincIDE.app/Contents/Resources/share/minizinc/std/flatzinc_builtins.mzn'\n",
      "processing file '/Applications/MiniZincIDE.app/Contents/Resources/share/minizinc/std/solver_redefinitions.mzn'\n",
      "processing file '/Applications/MiniZincIDE.app/Contents/Resources/share/minizinc/std/fzn_array_set_intersect.mzn'\n",
      "processing file '/Applications/MiniZincIDE.app/Contents/Resources/share/minizinc/std/fzn_array_set_union.mzn'\n",
      "processing file '/Applications/MiniZincIDE.app/Contents/Resources/share/minizinc/std/fzn_array_opt_int_union.mzn'\n",
      "processing file '/Applications/MiniZincIDE.app/Contents/Resources/share/minizinc/std/fzn_array_int_union.mzn'\n",
      "processing file '/Applications/MiniZincIDE.app/Contents/Resources/share/minizinc/std/lex_lesseq.mzn'\n",
      "processing file '/Applications/MiniZincIDE.app/Contents/Resources/share/minizinc/std/fzn_lex_lesseq_set_reif.mzn'\n",
      "processing file '/Applications/MiniZincIDE.app/Contents/Resources/share/minizinc/std/fzn_lex_lesseq_set.mzn'\n",
      "processing file '/Applications/MiniZincIDE.app/Contents/Resources/share/minizinc/std/fzn_lex_lesseq_int_reif.mzn'\n",
      "processing file '/Applications/MiniZincIDE.app/Contents/Resources/share/minizinc/gecode/fzn_lex_lesseq_int.mzn'\n",
      "processing file '/Applications/MiniZincIDE.app/Contents/Resources/share/minizinc/std/fzn_lex_lesseq_float_reif.mzn'\n",
      "processing file '/Applications/MiniZincIDE.app/Contents/Resources/share/minizinc/std/fzn_lex_lesseq_float.mzn'\n",
      "processing file '/Applications/MiniZincIDE.app/Contents/Resources/share/minizinc/std/fzn_lex_lesseq_bool_reif.mzn'\n",
      "processing file '/Applications/MiniZincIDE.app/Contents/Resources/share/minizinc/gecode/fzn_lex_lesseq_bool.mzn'\n",
      "processing file '/Applications/MiniZincIDE.app/Contents/Resources/share/minizinc/std/lex_less.mzn'\n",
      "processing file '/Applications/MiniZincIDE.app/Contents/Resources/share/minizinc/std/fzn_lex_less_set_reif.mzn'\n",
      "processing file '/Applications/MiniZincIDE.app/Contents/Resources/share/minizinc/std/fzn_lex_less_set.mzn'\n",
      "processing file '/Applications/MiniZincIDE.app/Contents/Resources/share/minizinc/std/fzn_lex_less_int_reif.mzn'\n",
      "processing file '/Applications/MiniZincIDE.app/Contents/Resources/share/minizinc/gecode/fzn_lex_less_int.mzn'\n",
      "processing file '/Applications/MiniZincIDE.app/Contents/Resources/share/minizinc/std/fzn_lex_less_float_reif.mzn'\n",
      "processing file '/Applications/MiniZincIDE.app/Contents/Resources/share/minizinc/std/fzn_lex_less_float.mzn'\n",
      "processing file '/Applications/MiniZincIDE.app/Contents/Resources/share/minizinc/std/fzn_lex_less_bool_reif.mzn'\n",
      "processing file '/Applications/MiniZincIDE.app/Contents/Resources/share/minizinc/gecode/fzn_lex_less_bool.mzn'\n",
      "processing file '/Applications/MiniZincIDE.app/Contents/Resources/share/minizinc/std/fzn_if_then_else_partiality.mzn'\n",
      "processing file '/Applications/MiniZincIDE.app/Contents/Resources/share/minizinc/std/fzn_if_then_else_var_set.mzn'\n",
      "processing file '/Applications/MiniZincIDE.app/Contents/Resources/share/minizinc/std/fzn_if_then_else_set.mzn'\n",
      "processing file '/Applications/MiniZincIDE.app/Contents/Resources/share/minizinc/std/fzn_if_then_else_var_opt_float.mzn'\n",
      "processing file '/Applications/MiniZincIDE.app/Contents/Resources/share/minizinc/std/fzn_if_then_else_var_float.mzn'\n",
      "processing file '/Applications/MiniZincIDE.app/Contents/Resources/share/minizinc/std/fzn_if_then_else_opt_float.mzn'\n",
      "processing file '/Applications/MiniZincIDE.app/Contents/Resources/share/minizinc/std/fzn_if_then_else_float.mzn'\n",
      "processing file '/Applications/MiniZincIDE.app/Contents/Resources/share/minizinc/std/fzn_if_then_else_var_opt_bool.mzn'\n",
      "processing file '/Applications/MiniZincIDE.app/Contents/Resources/share/minizinc/std/fzn_if_then_else_var_bool.mzn'\n",
      "processing file '/Applications/MiniZincIDE.app/Contents/Resources/share/minizinc/std/fzn_if_then_else_opt_bool.mzn'\n",
      "processing file '/Applications/MiniZincIDE.app/Contents/Resources/share/minizinc/std/fzn_if_then_else_bool.mzn'\n",
      "processing file '/Applications/MiniZincIDE.app/Contents/Resources/share/minizinc/std/fzn_if_then_else_var_opt_int.mzn'\n",
      "processing file '/Applications/MiniZincIDE.app/Contents/Resources/share/minizinc/std/fzn_if_then_else_var_int.mzn'\n",
      "processing file '/Applications/MiniZincIDE.app/Contents/Resources/share/minizinc/std/fzn_if_then_else_opt_int.mzn'\n",
      "processing file '/Applications/MiniZincIDE.app/Contents/Resources/share/minizinc/std/fzn_if_then_else_int.mzn'\n",
      "processing file '/Applications/MiniZincIDE.app/Contents/Resources/share/minizinc/std/count_fn.mzn'\n",
      "processing file '/Applications/MiniZincIDE.app/Contents/Resources/share/minizinc/std/count.mzn'\n",
      "processing file '/Applications/MiniZincIDE.app/Contents/Resources/share/minizinc/std/count_lt.mzn'\n",
      "processing file '/Applications/MiniZincIDE.app/Contents/Resources/share/minizinc/std/fzn_count_lt_par_reif.mzn'\n",
      "processing file '/Applications/MiniZincIDE.app/Contents/Resources/share/minizinc/std/fzn_count_lt_reif.mzn'\n",
      "processing file '/Applications/MiniZincIDE.app/Contents/Resources/share/minizinc/std/fzn_count_lt_par.mzn'\n",
      "processing file '/Applications/MiniZincIDE.app/Contents/Resources/share/minizinc/std/fzn_count_lt.mzn'\n",
      "processing file '/Applications/MiniZincIDE.app/Contents/Resources/share/minizinc/std/count_gt.mzn'\n",
      "processing file '/Applications/MiniZincIDE.app/Contents/Resources/share/minizinc/std/fzn_count_gt_reif.mzn'\n",
      "processing file '/Applications/MiniZincIDE.app/Contents/Resources/share/minizinc/std/fzn_count_gt_par_reif.mzn'\n",
      "processing file '/Applications/MiniZincIDE.app/Contents/Resources/share/minizinc/std/fzn_count_gt.mzn'\n",
      "processing file '/Applications/MiniZincIDE.app/Contents/Resources/share/minizinc/std/fzn_count_gt_par.mzn'\n",
      "processing file '/Applications/MiniZincIDE.app/Contents/Resources/share/minizinc/std/count_neq.mzn'\n",
      "processing file '/Applications/MiniZincIDE.app/Contents/Resources/share/minizinc/std/fzn_count_neq_reif.mzn'\n",
      "processing file '/Applications/MiniZincIDE.app/Contents/Resources/share/minizinc/std/fzn_count_neq_par_reif.mzn'\n",
      "processing file '/Applications/MiniZincIDE.app/Contents/Resources/share/minizinc/std/fzn_count_neq.mzn'\n",
      "processing file '/Applications/MiniZincIDE.app/Contents/Resources/share/minizinc/std/fzn_count_neq_par.mzn'\n",
      "processing file '/Applications/MiniZincIDE.app/Contents/Resources/share/minizinc/std/count_leq.mzn'\n",
      "processing file '/Applications/MiniZincIDE.app/Contents/Resources/share/minizinc/std/fzn_count_leq_reif.mzn'\n",
      "processing file '/Applications/MiniZincIDE.app/Contents/Resources/share/minizinc/std/fzn_count_leq_par_reif.mzn'\n",
      "processing file '/Applications/MiniZincIDE.app/Contents/Resources/share/minizinc/std/fzn_count_leq.mzn'\n",
      "processing file '/Applications/MiniZincIDE.app/Contents/Resources/share/minizinc/std/fzn_count_leq_par.mzn'\n",
      "processing file '/Applications/MiniZincIDE.app/Contents/Resources/share/minizinc/std/count_geq.mzn'\n",
      "processing file '/Applications/MiniZincIDE.app/Contents/Resources/share/minizinc/std/fzn_count_geq_reif.mzn'\n",
      "processing file '/Applications/MiniZincIDE.app/Contents/Resources/share/minizinc/std/fzn_count_geq_par_reif.mzn'\n",
      "processing file '/Applications/MiniZincIDE.app/Contents/Resources/share/minizinc/std/fzn_count_geq.mzn'\n",
      "processing file '/Applications/MiniZincIDE.app/Contents/Resources/share/minizinc/std/fzn_count_geq_par.mzn'\n",
      "processing file '/Applications/MiniZincIDE.app/Contents/Resources/share/minizinc/std/count_eq.mzn'\n",
      "processing file '/Applications/MiniZincIDE.app/Contents/Resources/share/minizinc/std/fzn_count_eq_par_reif.mzn'\n",
      "processing file '/Applications/MiniZincIDE.app/Contents/Resources/share/minizinc/gecode/fzn_count_eq_reif.mzn'\n",
      "processing file '/Applications/MiniZincIDE.app/Contents/Resources/share/minizinc/std/fzn_count_eq_par.mzn'\n",
      "processing file '/Applications/MiniZincIDE.app/Contents/Resources/share/minizinc/gecode/fzn_count_eq.mzn'\n",
      "processing file '/Applications/MiniZincIDE.app/Contents/Resources/share/minizinc/std/redefinitions-2.5.6.mzn'\n",
      "processing file '/Applications/MiniZincIDE.app/Contents/Resources/share/minizinc/gecode/redefinitions-2.5.2.mzn'\n",
      "processing file '/Applications/MiniZincIDE.app/Contents/Resources/share/minizinc/std/redefinitions-2.3.3.mzn'\n",
      "processing file '/Applications/MiniZincIDE.app/Contents/Resources/share/minizinc/std/redefinitions-2.2.1.mzn'\n",
      "processing file '/Applications/MiniZincIDE.app/Contents/Resources/share/minizinc/std/redefinitions-2.1.1.mzn'\n",
      "processing file '/Applications/MiniZincIDE.app/Contents/Resources/share/minizinc/std/redefinitions-2.1.mzn'\n",
      "processing file '/Applications/MiniZincIDE.app/Contents/Resources/share/minizinc/gecode/redefinitions-2.0.2.mzn'\n",
      "processing file '/Applications/MiniZincIDE.app/Contents/Resources/share/minizinc/gecode/redefinitions-2.0.mzn'\n",
      "processing file '/Applications/MiniZincIDE.app/Contents/Resources/share/minizinc/gecode/redefinitions.mzn'\n",
      "processing file '/private/var/folders/1d/g431hzp941z_qmtsghb8qgb00000gn/T/tmpnflb9jnz/model.mzn'\n",
      "processing file '/Applications/MiniZincIDE.app/Contents/Resources/share/minizinc/std/disjunctive.mzn'\n",
      "processing file '/Applications/MiniZincIDE.app/Contents/Resources/share/minizinc/std/fzn_disjunctive_reif.mzn'\n",
      "processing file '/Applications/MiniZincIDE.app/Contents/Resources/share/minizinc/std/fzn_disjunctive.mzn'\n",
      "processing file '/Applications/MiniZincIDE.app/Contents/Resources/share/minizinc/std/disjunctive_strict.mzn'\n",
      "processing file '/Applications/MiniZincIDE.app/Contents/Resources/share/minizinc/std/fzn_disjunctive_strict_reif.mzn'\n",
      "processing file '/Applications/MiniZincIDE.app/Contents/Resources/share/minizinc/gecode/fzn_disjunctive_strict.mzn'\n",
      "processing file '/Applications/MiniZincIDE.app/Contents/Resources/share/minizinc/gecode/fzn_cumulative.mzn'\n",
      " done parsing (0.01 s)\n",
      "Flattening ...\n",
      "\tCompilePass: Flatten with '/Applications/MiniZincIDE.app/Contents/Resources/share/minizinc//' library ...\n",
      "MIP domains ... done (0.01 s)\n",
      "Optimizing ... done (0.01 s)\n",
      "Converting to old FlatZinc ... done (0.01 s)\n",
      " done (0.01 s)\n",
      " done (0.03 s), max stack depth 17\n",
      "Maximum memory 3 Mbytes.\n",
      "      % SOLVING PHASE\n",
      "FZN solver plugin, compiled  Mar 22 2022  17:23:31\n",
      "Using FZN solver /Applications/MiniZincIDE.app/Contents/Resources/bin/fzn-gecode for solving, parameters: -a -s -t 59952 \n",
      "   Done (overall time 60.02 s).\n",
      "Solver output:\n",
      "Generated FlatZinc statistics:\n",
      "mzn-stat: paths=0\n",
      "mzn-stat: flatIntVars=201\n",
      "mzn-stat: flatIntConstraints=201\n",
      "mzn-stat: method=\"minimize\"\n",
      "mzn-stat: flatTime=0.0274769\n",
      "mzn-stat-end\n",
      "mzn-stat: initTime=0.001019\n",
      "mzn-stat: solveTime=59.9521\n",
      "mzn-stat: solutions=1\n",
      "mzn-stat: variables=201\n",
      "mzn-stat: propagators=201\n",
      "mzn-stat: propagations=171026099\n",
      "mzn-stat: nodes=3390721\n",
      "mzn-stat: failures=1695316\n",
      "mzn-stat: restarts=0\n",
      "mzn-stat: peakDepth=102\n",
      "mzn-stat-end\n",
      "mzn-stat: nSolutions=1\n",
      "mzn-stat-end\n"
     ]
    },
    {
     "data": {
      "text/plain": [
       "[{'jt_start': [[0, 91, 188, 197, 263, 333, 344, 406, 509, 572],\n",
       "   [29, 98, 188, 263, 278, 389, 417, 463, 509, 647],\n",
       "   [0, 154, 239, 345, 419, 509, 581, 593, 723, 768],\n",
       "   [169, 250, 362, 442, 541, 677, 729, 822, 971, 993],\n",
       "   [0, 72, 250, 272, 347, 373, 553, 593, 899, 971],\n",
       "   [14, 272, 344, 434, 729, 779, 851, 898, 963, 974],\n",
       "   [274, 325, 373, 434, 463, 519, 540, 796, 944, 974],\n",
       "   [197, 239, 502, 548, 622, 682, 777, 851, 908, 944],\n",
       "   [78, 320, 529, 622, 673, 768, 779, 819, 912, 938],\n",
       "   [417, 502, 515, 576, 583, 647, 723, 770, 822, 999]]}]"
      ]
     },
     "execution_count": 15,
     "metadata": {},
     "output_type": "execute_result"
    }
   ],
   "source": [
    "%%minizinc -m bind -s -t 60000 --solver gecode\n",
    "\n",
    "include \"disjunctive.mzn\";\n",
    "\n",
    "int: n_machines;                        % The number of machines.\n",
    "int: n_jobs;                            % The number of jobs.\n",
    "int: n_tasks = n_machines;      % Each job has one task per machine.\n",
    "set of int: jobs = 1..n_jobs;\n",
    "set of int: tasks = 1..n_tasks;\n",
    "set of int: machines = 0..(n_machines-1);\n",
    "\n",
    "array [jobs, tasks] of int: jt_machine;\n",
    "array [jobs, tasks] of int: jt_duration;\n",
    "\n",
    "int: max_end;\n",
    "\n",
    "array [jobs, tasks] of var 0..max_end: jt_start;\n",
    "var 0..max_end: t_end = max([jt_start[j,t] + jt_duration[j,t] | j in jobs, t in tasks]);\n",
    "\n",
    "\n",
    "constraint\n",
    "    (\n",
    "        t_end = max([jt_start[j,t] + jt_duration[j,t] | j in jobs, t in tasks])\n",
    "    );\n",
    "constraint\n",
    "    forall ( j in jobs, k in 1..(n_tasks - 1) ) (\n",
    "        jt_start[j, k] + jt_duration[j, k]  <=\n",
    "            jt_start[j, k + 1]\n",
    "    );\n",
    "\n",
    "constraint\n",
    "    forall(m in machines) (\n",
    "        disjunctive(\n",
    "            [jt_start[j,t] | j in jobs, t in tasks where\n",
    "                jt_machine[j,t]=m],\n",
    "            [jt_duration[j,t] | j in jobs, t in tasks where\n",
    "                jt_machine[j,t]=m])\n",
    "    );\n",
    "solve \n",
    "    ::\n",
    "    int_search([jt_start[j,t] | j in jobs, t in tasks],\n",
    "                smallest,\n",
    "                indomain_min)\n",
    "    minimize t_end;\n",
    "\n",
    "n_machines = 10;\n",
    "n_jobs = 10;\n",
    "max_end = 1050;\n",
    "\n",
    "\n",
    "%\n",
    "% The times for each job.\n",
    "%\n",
    "jt_duration = array2d(jobs, tasks, \n",
    "   [\n",
    " 29, 78, 9,  36, 49, 11, 62, 56, 44, 21,\n",
    " 43, 90, 75, 11, 69, 28, 46, 46, 72, 30,\n",
    " 91, 85, 39, 74, 90, 10, 12, 89, 45, 33,\n",
    " 81, 95, 71, 99, 9,  52, 85, 98, 22, 43,\n",
    " 14, 6,  22, 61, 26, 69, 21, 49, 72, 53,\n",
    " 84, 2,  52, 95, 48, 72, 47, 65, 6,  25,\n",
    " 46, 37, 61, 13, 32, 21, 32, 89, 30, 55,\n",
    " 31, 86, 46, 74, 32, 88, 19, 48, 36, 79,\n",
    " 76, 69, 76, 51, 85, 11, 40, 89, 26, 74,\n",
    " 85, 13, 61, 7,  64, 76, 47, 52, 90, 45,\n",
    " ]);\n",
    "\n",
    "\n",
    "%\n",
    "% The order the jobs must be done.\n",
    "%\n",
    "%\n",
    "jt_machine = array2d(jobs, 1..n_machines,\n",
    "  [\n",
    "   % indicating the order in which each job must be done\n",
    " 0, 1, 2, 3, 4, 5, 6, 7, 8, 9,\n",
    " 0, 2, 4, 9, 3, 1, 6, 5, 7, 8,\n",
    " 1, 0, 3, 2, 8, 5, 7, 6, 9, 4,\n",
    " 1, 2, 0, 4, 6, 8, 7, 3, 9, 5,\n",
    " 2, 0, 1, 5, 3, 4, 8, 7, 9, 6,\n",
    " 2, 1, 5, 3, 8, 9, 0, 6, 4, 7,\n",
    " 1, 0, 3, 2, 6, 5, 9, 8, 7, 4,\n",
    " 2, 0, 1, 5, 4, 6, 8, 9, 7, 3,\n",
    " 0, 1, 3, 5, 2, 9, 6, 7, 4, 8,\n",
    " 1, 0, 2, 6, 8, 9, 5, 3, 4, 7,\n",
    "  ]);"
   ]
  },
  {
   "cell_type": "code",
   "execution_count": 23,
   "metadata": {},
   "outputs": [],
   "source": [
    "import nest_asyncio\n",
    "nest_asyncio.apply()\n",
    "\n",
    "import datetime"
   ]
  },
  {
   "cell_type": "code",
   "execution_count": 37,
   "metadata": {},
   "outputs": [],
   "source": [
    "from minizinc import Instance, Model, Solver \n",
    "\n",
    "jobshop_1 = Model(\"./jobshop_1.mzn\")\n",
    "gecode = Solver.lookup(\"gecode\")\n",
    "# Create an Instance of the n-Queens model for Gecode\n",
    "instance = Instance(gecode, jobshop_1)\n",
    "result = instance.solve(timeout=datetime.timedelta(minutes=1))\n",
    "experiments[\"first_version\"]=result.solution.objective"
   ]
  },
  {
   "cell_type": "code",
   "execution_count": 30,
   "metadata": {},
   "outputs": [
    {
     "data": {
      "text/plain": [
       "1044"
      ]
     },
     "execution_count": 30,
     "metadata": {},
     "output_type": "execute_result"
    }
   ],
   "source": [
    "result.solution.objective"
   ]
  },
  {
   "cell_type": "markdown",
   "metadata": {},
   "source": [
    "##### Second version"
   ]
  },
  {
   "cell_type": "markdown",
   "metadata": {},
   "source": [
    "Here we will take a different strategy of searching for a solution:\n",
    "\n",
    "* We add sequence variables that say in what order jobs are executed at each machine. \n",
    "* We have the following search strategy:\n",
    "    * Find sequence var with smallest domain\n",
    "    * Select random value for order variable\n",
    "    * Find task with smallest value in its starting time domain (the one we can schedule earliest)\n",
    "    * Set starting to minimum value"
   ]
  },
  {
   "cell_type": "code",
   "execution_count": null,
   "metadata": {},
   "outputs": [],
   "source": [
    "%%minizinc -m bind -s -t 60000 --solver gecode\n",
    "\n",
    "include \"globals.mzn\";\n",
    "\n",
    "int: n_machines;                        % The number of machines.\n",
    "int: n_jobs;                            % The number of jobs.\n",
    "int: n_tasks = n_machines;      % Each job has one task per machine.\n",
    "set of int: jobs = 1..n_jobs;\n",
    "set of int: tasks = 1..n_tasks;\n",
    "set of int: machines = 0..(n_machines-1);\n",
    "\n",
    "array [jobs, tasks] of int: jt_machine;\n",
    "array [jobs, tasks] of int: jt_duration;\n",
    "\n",
    "int: max_end;\n",
    "\n",
    "array [jobs, tasks] of var 0..max_end: jt_start;\n",
    "var 0..max_end: t_end;\n",
    "\n",
    "array [machines, jobs] of var jobs: seq;\n",
    "\n",
    "\n",
    "constraint\n",
    "    (\n",
    "        t_end = max([jt_start[j,t] + jt_duration[j,t] | j in jobs, t in tasks])\n",
    "    );\n",
    "\n",
    "constraint\n",
    "    forall ( j in jobs, k in 1..(n_tasks - 1) ) (\n",
    "        jt_start[j, k] + jt_duration[j, k]  <=\n",
    "            jt_start[j, k + 1]\n",
    "    );\n",
    "\n",
    "constraint\n",
    "    forall(m in machines) (\n",
    "        disjunctive(\n",
    "            [jt_start[j,t] | j in jobs, t in tasks where\n",
    "                jt_machine[j,t]=m],\n",
    "            [jt_duration[j,t] | j in jobs, t in tasks where\n",
    "                jt_machine[j,t]=m])\n",
    "    );\n",
    "\n",
    "constraint\n",
    "    forall(m in machines) (alldifferent([seq[m,j] | j in jobs]));\n",
    "\n",
    "constraint\n",
    "    forall(m in machines, j1 in jobs, j2 in jobs, t1 in tasks, t2 in tasks\n",
    "        where jt_machine[j1,t1]=m /\\jt_machine[j2,t2]=m)\n",
    "        (\n",
    "            seq[m, j1] < seq[m, j2] -> \n",
    "                jt_start[j1,t1] + jt_duration[j1, t1] <= jt_start[j2, t2]            \n",
    "        );\n",
    "\n",
    "solve \n",
    "    :: seq_search([\n",
    "        int_search(\n",
    "            [seq[m,j] | \n",
    "                m in machines, t in tasks, j in jobs\n",
    "                where jt_machine[j,t]=m],\n",
    "            first_fail,\n",
    "            indomain_random),\n",
    "        int_search([jt_start[j,t] | j in jobs, t in tasks], smallest, indomain_min)])\n",
    "    :: restart_constant(1000)\n",
    "\n",
    "    minimize t_end;\n",
    "\n",
    "output [\n",
    "    \"t_end = \", show(t_end), \"\\n\"\n",
    "];\n",
    "\n",
    "\n",
    "n_machines = 10;\n",
    "n_jobs = 10;\n",
    "max_end = 1050;\n",
    "\n",
    "\n",
    "%\n",
    "% The times for each job.\n",
    "%\n",
    "jt_duration = array2d(jobs, tasks, \n",
    "   [\n",
    " 29, 78, 9,  36, 49, 11, 62, 56, 44, 21,\n",
    " 43, 90, 75, 11, 69, 28, 46, 46, 72, 30,\n",
    " 91, 85, 39, 74, 90, 10, 12, 89, 45, 33,\n",
    " 81, 95, 71, 99, 9,  52, 85, 98, 22, 43,\n",
    " 14, 6,  22, 61, 26, 69, 21, 49, 72, 53,\n",
    " 84, 2,  52, 95, 48, 72, 47, 65, 6,  25,\n",
    " 46, 37, 61, 13, 32, 21, 32, 89, 30, 55,\n",
    " 31, 86, 46, 74, 32, 88, 19, 48, 36, 79,\n",
    " 76, 69, 76, 51, 85, 11, 40, 89, 26, 74,\n",
    " 85, 13, 61, 7,  64, 76, 47, 52, 90, 45,\n",
    " ]);\n",
    "\n",
    "\n",
    "%\n",
    "% The order the jobs must be done.\n",
    "%\n",
    "%\n",
    "jt_machine = array2d(jobs, 1..n_machines,\n",
    "  [\n",
    "   % indicating the order in which each job must be done\n",
    " 0, 1, 2, 3, 4, 5, 6, 7, 8, 9,\n",
    " 0, 2, 4, 9, 3, 1, 6, 5, 7, 8,\n",
    " 1, 0, 3, 2, 8, 5, 7, 6, 9, 4,\n",
    " 1, 2, 0, 4, 6, 8, 7, 3, 9, 5,\n",
    " 2, 0, 1, 5, 3, 4, 8, 7, 9, 6,\n",
    " 2, 1, 5, 3, 8, 9, 0, 6, 4, 7,\n",
    " 1, 0, 3, 2, 6, 5, 9, 8, 7, 4,\n",
    " 2, 0, 1, 5, 4, 6, 8, 9, 7, 3,\n",
    " 0, 1, 3, 5, 2, 9, 6, 7, 4, 8,\n",
    " 1, 0, 2, 6, 8, 9, 5, 3, 4, 7,\n",
    "  ]);"
   ]
  },
  {
   "cell_type": "code",
   "execution_count": 34,
   "metadata": {},
   "outputs": [],
   "source": [
    "jobshop_2 = Model(\"./jobshop_2.mzn\")\n",
    "gecode = Solver.lookup(\"gecode\")\n",
    "# Create an Instance of the n-Queens model for Gecode\n",
    "instance = Instance(gecode, jobshop_2)\n",
    "result = instance.solve(timeout=datetime.timedelta(minutes=1))\n",
    "experiments[\"second_version\"]=result.solution.objective"
   ]
  },
  {
   "cell_type": "code",
   "execution_count": 35,
   "metadata": {},
   "outputs": [
    {
     "data": {
      "text/plain": [
       "938"
      ]
     },
     "execution_count": 35,
     "metadata": {},
     "output_type": "execute_result"
    }
   ],
   "source": [
    "result.solution.objective"
   ]
  },
  {
   "cell_type": "markdown",
   "metadata": {},
   "source": [
    "##### Comparison summary"
   ]
  },
  {
   "cell_type": "code",
   "execution_count": 36,
   "metadata": {},
   "outputs": [
    {
     "name": "stdout",
     "output_type": "stream",
     "text": [
      "{'second_version': 938}\n"
     ]
    }
   ],
   "source": [
    "print(experiments)"
   ]
  }
 ],
 "metadata": {
  "interpreter": {
   "hash": "b7fbd8432cf0d3b59ecb2c6ed1c2f4b415893b397c7870f2806f25e1aae5de48"
  },
  "kernelspec": {
   "display_name": "Python 3.10.3 ('venv': venv)",
   "language": "python",
   "name": "python3"
  },
  "language_info": {
   "codemirror_mode": {
    "name": "ipython",
    "version": 3
   },
   "file_extension": ".py",
   "mimetype": "text/x-python",
   "name": "python",
   "nbconvert_exporter": "python",
   "pygments_lexer": "ipython3",
   "version": "3.9.12"
  },
  "orig_nbformat": 4
 },
 "nbformat": 4,
 "nbformat_minor": 2
}
