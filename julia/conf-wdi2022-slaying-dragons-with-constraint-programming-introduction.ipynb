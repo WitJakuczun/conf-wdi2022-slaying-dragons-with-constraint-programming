{
 "cells": [
  {
   "cell_type": "markdown",
   "source": [
    "![](images/Jakuczun-Wit.png)"
   ],
   "metadata": {
    "slideshow": {
     "slide_type": "slide"
    }
   }
  },
  {
   "cell_type": "markdown",
   "source": [
    "# What about the dragons?"
   ],
   "metadata": {}
  },
  {
   "cell_type": "markdown",
   "source": [
    "![](images/Rabbitattack.jpeg)"
   ],
   "metadata": {}
  },
  {
   "cell_type": "markdown",
   "source": [
    "## Large Scale Combinatorial Optimization problems (LSCOs)."
   ],
   "metadata": {}
  },
  {
   "cell_type": "markdown",
   "source": [
    "* **Real world problems which do not fit into well-defined problem categories.** There is no eficient solution models publicized in the research literature\n",
    "which would apply to them and take into account their unique features (e.g. multiple decision criteria, user-defined constraints)\n",
    "* **Large scale problems, characterized by large sets of data, variables and constraints.** Existing algorithms do not always scale up, some decomposition aspects must be considered (e.g. problem structure, hybrid models, cooperation between solvers)\n",
    "* **Computationally difficult problems**, i.e. NP-hard problems whose solving requires anyhow a lot of knowledge and experience."
   ],
   "metadata": {}
  },
  {
   "cell_type": "markdown",
   "source": [
    "# What is constraint programming?"
   ],
   "metadata": {
    "slideshow": {
     "slide_type": "slide"
    }
   }
  },
  {
   "cell_type": "markdown",
   "source": [
    "## What does [Wikipedia](https://en.wikipedia.org/wiki/Constraint_programming) say?"
   ],
   "metadata": {
    "slideshow": {
     "slide_type": "slide"
    }
   }
  },
  {
   "cell_type": "markdown",
   "source": [
    "Constraint programming (CP)[1] is a paradigm for **solving combinatorial problems**\n",
    "that draws on a wide range of techniques from artificial intelligence, computer science,\n",
    "and operations research.\n",
    "\n",
    "In constraint programming, users **declaratively** state the **constraints** on\n",
    "the feasible solutions for a set of **decision variables**."
   ],
   "metadata": {
    "slideshow": {
     "slide_type": "fragment"
    }
   }
  },
  {
   "cell_type": "markdown",
   "source": [
    "## Travelling Salesman Problem with Constraint Programming"
   ],
   "metadata": {}
  },
  {
   "cell_type": "markdown",
   "source": [
    "![](images/monalisa1.webp)\n",
    "\n",
    "Source: [https://www.wired.com/2013/01/traveling-salesman-problem/](https://www.wired.com/2013/01/traveling-salesman-problem/)"
   ],
   "metadata": {}
  },
  {
   "cell_type": "markdown",
   "source": [
    "```Prolog\n",
    "Cities = [X1,X2,X3,X4,X5,X6,X7],\n",
    "element(X1,[ 0, 4, 8,10, 7,14,15],C1),\n",
    "element(X2,[ 4, 0, 7, 7,10,12, 5],C2),\n",
    "element(X3,[ 8, 7, 0, 4, 6, 8,10],C3),\n",
    "element(X4,[10, 7, 4, 0, 2, 5, 8],C4),\n",
    "element(X5,[ 7,10, 6, 2, 0, 6, 7],C5),\n",
    "element(X6,[14,12, 8, 5, 6, 0, 5],C6),\n",
    "element(X7,[15, 5,10, 8, 7, 5, 0],C7),\n",
    "Cost #= C1+C2+C3+C4+C5+C6+C7,\n",
    "circuit(Cities),\n",
    "labeling([minimize(Cost)], Cities).\n",
    "```"
   ],
   "metadata": {}
  },
  {
   "cell_type": "markdown",
   "source": [
    "## Components of Constraint Programming programm\n",
    "\n",
    "Each constraint programming program is defined by the following triple:"
   ],
   "metadata": {
    "slideshow": {
     "slide_type": "slide"
    }
   }
  },
  {
   "cell_type": "markdown",
   "source": [
    "\n",
    "* Variables\n",
    "* Constraints\n",
    "* Search procedure:\n",
    "    * propagation\n",
    "    * variable selection\n",
    "    * value selection"
   ],
   "metadata": {
    "slideshow": {
     "slide_type": "fragments"
    }
   }
  },
  {
   "cell_type": "markdown",
   "source": [
    "### Variables"
   ],
   "metadata": {
    "slideshow": {
     "slide_type": "slide"
    }
   }
  },
  {
   "cell_type": "markdown",
   "source": [
    "Variables define our decision (optimization) problem.  Each variable has a domain that define value range\n",
    "it can take."
   ],
   "metadata": {
    "slideshow": {
     "slide_type": "fragment"
    }
   }
  },
  {
   "cell_type": "markdown",
   "source": [
    "Modern constraint programming implementations can handle following variables' domains:"
   ],
   "metadata": {
    "slideshow": {
     "slide_type": "fragment"
    }
   }
  },
  {
   "cell_type": "markdown",
   "source": [
    "*Discrete domains*\n",
    "$\\{1,2,3\\}$ or $\\{go, wait\\}$"
   ],
   "metadata": {
    "slideshow": {
     "slide_type": "fragment"
    }
   }
  },
  {
   "cell_type": "markdown",
   "source": [
    "*Real value domains*\n",
    "$[0\\ldots 3)\\cup(5,\\ldots,8]$"
   ],
   "metadata": {
    "slideshow": {
     "slide_type": "fragment"
    }
   }
  },
  {
   "cell_type": "markdown",
   "source": [
    "Multiset domains\n",
    "$\\{\\{1\\}, \\{1,2\\}\\} \\subseteq 2^{\\{1,2\\}}$"
   ],
   "metadata": {
    "slideshow": {
     "slide_type": "fragment"
    }
   }
  },
  {
   "cell_type": "markdown",
   "source": [
    "### Constraints"
   ],
   "metadata": {
    "slideshow": {
     "slide_type": "slide"
    }
   }
  },
  {
   "cell_type": "markdown",
   "source": [
    "Constraint is a function with variables as arguments that returns three values:\n",
    "\n",
    "* *true* if values of variables fulfill the constraint\n",
    "* *false* if values of variables break the constraint\n",
    "* *maybe* if it is not possible to decide if there is (non)feasible valuation of the variables."
   ],
   "metadata": {
    "slideshow": {
     "slide_type": "fragment"
    }
   }
  },
  {
   "cell_type": "markdown",
   "source": [
    "Constraints follow the rules:\n",
    "\n",
    "* Each constraint call can result in domain reduction of variables\n",
    "this constraint handles.\n",
    "* Constraints are called in an order they were declared but decision to run\n",
    "the constraint is triggered by how its variables were modified. Exemplary events:\n",
    "    * variable is instantiated (has only one value)\n",
    "    * domain was modified\n",
    "    * lower/upper bounding value of domain has changed"
   ],
   "metadata": {
    "slideshow": {
     "slide_type": "fragment"
    }
   }
  },
  {
   "cell_type": "markdown",
   "source": [
    "### Search process - general introduction"
   ],
   "metadata": {
    "slideshow": {
     "slide_type": "slide"
    }
   }
  },
  {
   "cell_type": "markdown",
   "source": [
    "Search (aka labeling) process is a process that is trying to\n",
    "check **all** values of **each** variable. It looks like bruteforce but\n",
    "due to constrants domain reduction is very effective."
   ],
   "metadata": {
    "slideshow": {
     "slide_type": "fragment"
    }
   }
  },
  {
   "cell_type": "markdown",
   "source": [
    "It is important to understand that this process is of recursive nature. After\n",
    "a solution is found feasible or unfeasible, the process **backtracks** to last state\n",
    "and tries next combination."
   ],
   "metadata": {
    "slideshow": {
     "slide_type": "fragment"
    }
   }
  },
  {
   "cell_type": "markdown",
   "source": [
    "It is split into two main phases that interleave:\n",
    "\n",
    "* **Constraint propagation** - it is a process in which constraints\n",
    "  are triggering each other by changing domains of variables. This process is mean to be\n",
    "  done automatically. We can influence it by constraints.\n",
    "* **Labelling** - it is a process in which variables are being assigned values from\n",
    "  their domains."
   ],
   "metadata": {
    "slideshow": {
     "slide_type": "fragment"
    }
   }
  },
  {
   "cell_type": "markdown",
   "source": [
    "### Search process - pseudocode"
   ],
   "metadata": {
    "slideshow": {
     "slide_type": "slide"
    }
   }
  },
  {
   "cell_type": "markdown",
   "source": [
    "1. Post variables\n",
    "2. Post Constraints\n",
    "3. Propagate constraints\n",
    "4. If there are variables that has more than one value\n",
    "    1. Select one of them (e.g. $var$)\n",
    "    2. Select one possible value from $var$'s domain (e.g. $val$)\n",
    "    3. Instantiate $var$ to $val$\n",
    "    4. Jump to 3.\n",
    "5. If there is at least one variable with empty domain report *Infeasible*\n",
    "6. If all variables have singleton domains mark this as solution.\n",
    "    1. Backtrack all changes to last instantiated variable and jump to 4.A and select next value"
   ],
   "metadata": {
    "slideshow": {
     "slide_type": "fragment"
    }
   }
  },
  {
   "cell_type": "markdown",
   "source": [
    "# What is Constraint Programming good for?"
   ],
   "metadata": {}
  },
  {
   "cell_type": "markdown",
   "source": [
    "Constraint programming is very effective for:\n",
    "\n",
    "* scheduling problems\n",
    "* time-tabling problems\n",
    "* assignment problems\n",
    "* configuration problems"
   ],
   "metadata": {}
  },
  {
   "cell_type": "markdown",
   "source": [
    "*Rule of thumb* to choose Constraint Programming approach:\n",
    "\n",
    "* You need \"only\" feasible solution\n",
    "* You need more than one feasible/optimal solutions\n",
    "* You have effective search strategy\n",
    "* MIP is not working for your problem\n",
    "* Highly non-linear or complex constraints"
   ],
   "metadata": {}
  },
  {
   "cell_type": "markdown",
   "source": [
    "## Constraint programming vs Mixed Integer Programming"
   ],
   "metadata": {
    "slideshow": {
     "slide_type": "slide"
    }
   }
  },
  {
   "cell_type": "markdown",
   "source": [
    "* Easily handles complex/non-linear constraints.\n",
    "* More expressive thanks to *constraints are functions* approach.\n",
    "* Best for finding feasible (not optimal) solutions.\n",
    "* Can struggle with optimization problems.\n",
    "* Easily can generate all or many solutions. :\n",
    "* White-box approach where programmer controls search process.\n",
    "* Both approaches can cooperate"
   ],
   "metadata": {
    "slideshow": {
     "slide_type": "fragment"
    }
   }
  },
  {
   "cell_type": "markdown",
   "source": [
    "# Solvers"
   ],
   "metadata": {}
  },
  {
   "cell_type": "markdown",
   "source": [
    "## Open-source solvers"
   ],
   "metadata": {}
  },
  {
   "cell_type": "markdown",
   "source": [
    "The not complete list of open source constraint programming solvers:\n",
    "\n",
    "* [Choco solver](https://choco-solver.org/)\n",
    "* [ECLiPSe](https://eclipseclp.org/)\n",
    "* [Gecode](https://www.gecode.org/)\n",
    "* [OR-Tools](https://developers.google.com/optimization)\n",
    "* [MiniZinc](https://www.minizinc.org/)\n",
    "* [Picat](http://picat-lang.org/)"
   ],
   "metadata": {
    "slideshow": {
     "slide_type": "fragment"
    }
   }
  },
  {
   "cell_type": "markdown",
   "source": [
    "## Commercial solvers"
   ],
   "metadata": {}
  },
  {
   "cell_type": "markdown",
   "source": [
    "I am aware of two commercial constraint programming solvers:\n",
    "\n",
    "* [CPLEX CP Optimizer](https://www.ibm.com/pl-pl/analytics/cplex-cp-optimizer)\n",
    "* [Sicstus Prolog](https://sicstus.sics.se/)"
   ],
   "metadata": {}
  },
  {
   "cell_type": "markdown",
   "source": [
    "# Literature"
   ],
   "metadata": {}
  },
  {
   "cell_type": "markdown",
   "source": [
    "## Books"
   ],
   "metadata": {}
  },
  {
   "cell_type": "markdown",
   "source": [
    "I have following books on my shelf:\n",
    "\n",
    "* [A Quick and Gentle Guide to Constraint Logic Programming via ECLiPSe](http://www.anclp.pl/)\n",
    "    * There both polish and english version\n",
    "* [Programming with Constraints](https://mitpress.mit.edu/books/programming-constraints)\n",
    "* [Principles of Constraint Programming](https://www.amazon.pl/Principles-Constraint-Programming-Krzysztof-Apt/dp/0521125499/ref=asc_df_0521125499/?tag=plshogostdde-21&linkCode=df0&hvadid=504303969727&hvpos=&hvnetw=g&hvrand=14782899227594433475&hvpone=&hvptwo=&hvqmt=&hvdev=c&hvdvcmdl=&hvlocint=&hvlocphy=20853&hvtargid=pla-423031644129&psc=1)\n",
    "* [Constraint-Based Scheduling: Applying Constraint Programming to Scheduling Problems](https://www.amazon.pl/Constraint-Based-Scheduling-Applying-Constraint-Programming/dp/1461355745/ref=sr_1_3?__mk_pl_PL=%C3%85M%C3%85%C5%BD%C3%95%C3%91&crid=3RRXAOTFUU4YG&keywords=constraint+programming&qid=1648842560&sprefix=constraint+programming%2Caps%2C82&sr=8-3)\n",
    "* [Essentials of Constraint Programming](https://www.amazon.pl/Essentials-Constraint-Programming-Thom-Fr%C3%BChwirth/dp/3642087124/ref=sr_1_6?__mk_pl_PL=%C3%85M%C3%85%C5%BD%C3%95%C3%91&crid=3RRXAOTFUU4YG&keywords=constraint+programming&qid=1648842604&sprefix=constraint+programming%2Caps%2C82&sr=8-6)\n",
    "* [Constraint Processing](https://www.amazon.pl/Constraint-Processing-Rina-Dechter/dp/1558608907/ref=sr_1_75?__mk_pl_PL=%C3%85M%C3%85%C5%BD%C3%95%C3%91&crid=3RRXAOTFUU4YG&keywords=constraint+programming&qid=1648842680&sprefix=constraint+programming%2Caps%2C82&sr=8-75)\n",
    "* [Constraint Logic Programming using Eclipse](https://www.amazon.pl/Apt-Constraint-Logic-Programming-Eclipse/dp/0521866286/ref=sr_1_86?__mk_pl_PL=%C3%85M%C3%85%C5%BD%C3%95%C3%91&crid=3RRXAOTFUU4YG&keywords=constraint+programming&qid=1648842737&sprefix=constraint+programming%2Caps%2C82&sr=8-86)"
   ],
   "metadata": {}
  },
  {
   "cell_type": "markdown",
   "source": [
    "## Blogs"
   ],
   "metadata": {}
  },
  {
   "cell_type": "markdown",
   "source": [
    "I read following blogs:\n",
    "\n",
    "* [http://hakank.org/constraint_programming_blog/](http://hakank.org/constraint_programming_blog/)"
   ],
   "metadata": {}
  },
  {
   "cell_type": "markdown",
   "source": [
    "# Materials for you"
   ],
   "metadata": {}
  },
  {
   "cell_type": "markdown",
   "source": [
    "All code is available at my github account [https://github.com/WitJakuczun/](https://github.com/WitJakuczun).\n",
    "\n",
    "Repository name is [conf-wdi2022-slaying-dragons-with-constraint-programming](https://github.com/WitJakuczun/conf-wdi2022-slaying-dragons-with-constraint-programming)\n",
    "\n",
    "Contact information:\n",
    "\n",
    "* LinkedIn profile: [https://www.linkedin.com/in/jakuczunwit/](https://www.linkedin.com/in/jakuczunwit/)\n",
    "* email: [wit.jakuczun@gmail.com](wit.jakuczun@gmail.com)"
   ],
   "metadata": {}
  },
  {
   "cell_type": "markdown",
   "source": [
    "---\n",
    "\n",
    "*This notebook was generated using [Literate.jl](https://github.com/fredrikekre/Literate.jl).*"
   ],
   "metadata": {}
  }
 ],
 "nbformat_minor": 3,
 "metadata": {
  "language_info": {
   "file_extension": ".jl",
   "mimetype": "application/julia",
   "name": "julia",
   "version": "1.7.2"
  },
  "kernelspec": {
   "name": "julia-1.7",
   "display_name": "Julia 1.7.2",
   "language": "julia"
  }
 },
 "nbformat": 4
}
