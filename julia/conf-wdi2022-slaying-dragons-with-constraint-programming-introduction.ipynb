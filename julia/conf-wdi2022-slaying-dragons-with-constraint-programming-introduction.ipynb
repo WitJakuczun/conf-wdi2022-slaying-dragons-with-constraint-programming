{
 "cells": [
  {
   "cell_type": "markdown",
   "source": [
    "# What is constraint programming?"
   ],
   "metadata": {
    "slideshow": {
     "slide_type": "slide"
    }
   }
  },
  {
   "cell_type": "markdown",
   "source": [
    "## What does [Wikipedia](https://en.wikipedia.org/wiki/Constraint_programming) say?"
   ],
   "metadata": {
    "slideshow": {
     "slide_type": "slide"
    }
   }
  },
  {
   "cell_type": "markdown",
   "source": [
    "Constraint programming (CP)[1] is a paradigm for **solving combinatorial problems**\n",
    "that draws on a wide range of techniques from artificial intelligence, computer science,\n",
    "and operations research.\n",
    "\n",
    "In constraint programming, users **declaratively** state the **constraints** on\n",
    "the feasible solutions for a set of **decision variables**."
   ],
   "metadata": {
    "slideshow": {
     "slide_type": "fragment"
    }
   }
  },
  {
   "cell_type": "markdown",
   "source": [
    "## Components of Constraint Programming programm\n",
    "\n",
    "Each constraint programming program is defined by the following triple:"
   ],
   "metadata": {
    "slideshow": {
     "slide_type": "slide"
    }
   }
  },
  {
   "cell_type": "markdown",
   "source": [
    "\n",
    "* Variables\n",
    "* Constraints\n",
    "* Search procedure:\n",
    "    * propagation\n",
    "    * variable selection\n",
    "    * value selection"
   ],
   "metadata": {
    "slideshow": {
     "slide_type": "fragments"
    }
   }
  },
  {
   "cell_type": "markdown",
   "source": [
    "##Variables"
   ],
   "metadata": {
    "slideshow": {
     "slide_type": "slide"
    }
   }
  },
  {
   "cell_type": "markdown",
   "source": [
    "Variables define our decision (optimization) problem.  Each variable has a domain that define value range\n",
    "it can take."
   ],
   "metadata": {
    "slideshow": {
     "slide_type": "fragment"
    }
   }
  },
  {
   "cell_type": "markdown",
   "source": [
    "Modern constraint programming implementations can handle following variables' domains:"
   ],
   "metadata": {
    "slideshow": {
     "slide_type": "fragment"
    }
   }
  },
  {
   "cell_type": "markdown",
   "source": [
    "*Discrete domains*\n",
    "$\\{1,2,3\\}$ or $\\{go, wait\\}$"
   ],
   "metadata": {
    "slideshow": {
     "slide_type": "fragment"
    }
   }
  },
  {
   "cell_type": "markdown",
   "source": [
    "*Real value domains*\n",
    "$[0\\ldots 3)\\cup(5,\\ldots,8]$"
   ],
   "metadata": {
    "slideshow": {
     "slide_type": "fragment"
    }
   }
  },
  {
   "cell_type": "markdown",
   "source": [
    "Multiset domains\n",
    "$\\{\\{1\\}, \\{1,2\\}\\} \\subseteq 2^{\\{1,2\\}}$"
   ],
   "metadata": {
    "slideshow": {
     "slide_type": "fragment"
    }
   }
  },
  {
   "cell_type": "markdown",
   "source": [
    "## Constraints"
   ],
   "metadata": {
    "slideshow": {
     "slide_type": "slide"
    }
   }
  },
  {
   "cell_type": "markdown",
   "source": [
    "Constraint is a function with variables as arguments that returns three values:\n",
    "\n",
    "* *true* if values of variables fulfill the constraint\n",
    "* *false* if values of variables break the constraint\n",
    "* *maybe* if it is not possible to decide if there is (non)feasible valuation of the variables."
   ],
   "metadata": {
    "slideshow": {
     "slide_type": "fragment"
    }
   }
  },
  {
   "cell_type": "markdown",
   "source": [
    "Constraints follow the rules:\n",
    "\n",
    "* Each constraint call can result in domain reduction of variables\n",
    "this constraint handles.\n",
    "* Constraints are called in an order they were declared but decision to run\n",
    "the constraint is triggered by how its variables were modified. Exemplary events:\n",
    "    * variable is instantiated (has only one value)\n",
    "    * domain was modified\n",
    "    * lower/upper bounding value of domain has changed"
   ],
   "metadata": {
    "slideshow": {
     "slide_type": "fragment"
    }
   }
  },
  {
   "cell_type": "markdown",
   "source": [
    "## Search process - general introduction"
   ],
   "metadata": {
    "slideshow": {
     "slide_type": "slide"
    }
   }
  },
  {
   "cell_type": "markdown",
   "source": [
    "Search (aka labeling) process is a process that is trying to\n",
    "check **all** values of **each** variable. It looks like bruteforce but\n",
    "due to constrants domain reduction is very effective."
   ],
   "metadata": {
    "slideshow": {
     "slide_type": "fragment"
    }
   }
  },
  {
   "cell_type": "markdown",
   "source": [
    "It is important to understand that this process is of recursive nature. After\n",
    "a solution is found feasible or unfeasible, the process **backtracks** to last state\n",
    "and tries next combination."
   ],
   "metadata": {
    "slideshow": {
     "slide_type": "fragment"
    }
   }
  },
  {
   "cell_type": "markdown",
   "source": [
    "It is split into two main phases that interleave:\n",
    "\n",
    "* Constraint propagation - it is a process in which constraints\n",
    "  are triggering each other by changing domains of variables. This process is mean to be\n",
    "  done automatically. We can influence it by constraints.\n",
    "* Labelling - it is a process in which variables are being assigned values from\n",
    "  their domains."
   ],
   "metadata": {
    "slideshow": {
     "slide_type": "fragment"
    }
   }
  },
  {
   "cell_type": "markdown",
   "source": [
    "## Search process - pseudocode"
   ],
   "metadata": {
    "slideshow": {
     "slide_type": "slide"
    }
   }
  },
  {
   "cell_type": "markdown",
   "source": [
    "1. Post variables\n",
    "2. Post Constraints\n",
    "3. Propagate constraints\n",
    "4. If there are variables that has more than one value\n",
    "    1. Select one of them (e.g. $var$)\n",
    "    2. Select one possible value from $var$'s domain (e.g. $val$)\n",
    "    3. Instantiate $var$ to $val$\n",
    "    4. Jump to 3.\n",
    "5. If there is at least one variable with empty domain report *Infeasible*\n",
    "6. If all variables have singleton domains mark this as solution.\n",
    "    1. Backtrack all changes to last instantiated variable and jump to 4.A and select next value"
   ],
   "metadata": {
    "slideshow": {
     "slide_type": "fragment"
    }
   }
  },
  {
   "cell_type": "markdown",
   "source": [
    "## Example of search tree for [queens problem](https://en.wikipedia.org/wiki/Eight_queens_puzzle)."
   ],
   "metadata": {
    "slideshow": {
     "slide_type": "slide"
    }
   }
  },
  {
   "cell_type": "markdown",
   "source": [
    "![](http://hakank.org/minizinc/cp_viz_queens8.png)\n",
    "\n",
    "Source image [MiniZinc version 1.2: More about CP-Viz and some models changed](http://www.hakank.org/constraint_programming_blog/minizinczinc/#:~:text=MiniZinc%20version%201.2%3A%20More%20about%20CP%2DViz%20and%20some%20models%20changed)"
   ],
   "metadata": {
    "slideshow": {
     "slide_type": "fragment"
    }
   }
  },
  {
   "cell_type": "markdown",
   "source": [
    "## Constraint programming vs Mixed Integer Programming"
   ],
   "metadata": {
    "slideshow": {
     "slide_type": "slide"
    }
   }
  },
  {
   "cell_type": "markdown",
   "source": [
    "* Easily handles complex/non-linear constraints.\n",
    "* More expressive thanks to *constraints are functions* approach.\n",
    "* Best for finding feasible (not optimal) solutions.\n",
    "* Easily can generate all or many solutions. :\n",
    "* White-box approach where programmer controls search process.\n",
    "* Both approaches can cooperate"
   ],
   "metadata": {
    "slideshow": {
     "slide_type": "fragment"
    }
   }
  },
  {
   "cell_type": "markdown",
   "source": [
    "---\n",
    "\n",
    "*This notebook was generated using [Literate.jl](https://github.com/fredrikekre/Literate.jl).*"
   ],
   "metadata": {}
  }
 ],
 "nbformat_minor": 3,
 "metadata": {
  "language_info": {
   "file_extension": ".jl",
   "mimetype": "application/julia",
   "name": "julia",
   "version": "1.7.2"
  },
  "kernelspec": {
   "name": "julia-1.7",
   "display_name": "Julia 1.7.2",
   "language": "julia"
  }
 },
 "nbformat": 4
}
