{
 "cells": [
  {
   "cell_type": "markdown",
   "metadata": {
    "slideshow": {
     "slide_type": "slide"
    }
   },
   "source": [
    "# Working examples"
   ]
  },
  {
   "cell_type": "markdown",
   "metadata": {
    "slideshow": {
     "slide_type": "slide"
    }
   },
   "source": [
    "## Tools"
   ]
  },
  {
   "cell_type": "markdown",
   "metadata": {
    "slideshow": {
     "slide_type": "fragment"
    }
   },
   "source": [
    "* [Julia 1.7.2](https://julialang.org/downloads/)\n",
    "* [ConstraintSolver.jl](https://wikunia.github.io/ConstraintSolver.jl/stable/)\n",
    "* [MiniZinc](https://www.minizinc.org/)\n",
    "* [VSCode](https://code.visualstudio.com/)\n",
    "    * [Jupyter Notebooks in VS Code](https://code.visualstudio.com/docs/datascience/jupyter-notebooks)\n",
    "    * [Julia in VS Code](https://code.visualstudio.com/docs/languages/julia)"
   ]
  },
  {
   "cell_type": "markdown",
   "metadata": {
    "slideshow": {
     "slide_type": "slide"
    }
   },
   "source": [
    "## Propagation mechanism"
   ]
  },
  {
   "cell_type": "markdown",
   "metadata": {
    "slideshow": {
     "slide_type": "fragment"
    }
   },
   "source": [
    "I will present how constraint programming works for the following feasibility problem:\n",
    "\n",
    "* We have three variables: $x,y \\in\\{0,...,9\\}$ and $z \\in\\{0...18\\}$\n",
    "* We will play with the following constraints:\n",
    "    1. $x + y = z$\n",
    "    2. $z = 13$\n",
    "    3. $y < x-3$\n",
    "* Task is to find all solutions that respect given constraints."
   ]
  },
  {
   "cell_type": "code",
   "execution_count": 2,
   "metadata": {},
   "outputs": [],
   "source": [
    "using ConstraintSolver\n",
    "const CS=ConstraintSolver\n",
    "using JuMP"
   ]
  },
  {
   "cell_type": "markdown",
   "metadata": {
    "slideshow": {
     "slide_type": "slide"
    }
   },
   "source": [
    "### First constraint $x + y = z$"
   ]
  },
  {
   "cell_type": "code",
   "execution_count": 3,
   "metadata": {},
   "outputs": [
    {
     "name": "stdout",
     "output_type": "stream",
     "text": [
      "# Variables: 3\n",
      "# Constraints: 1\n",
      " - # Equality: 1\n",
      "\n",
      "Solving ended with OTHER_LIMIT status.\n",
      "x=>[0, 1, 2, 3, 4, 5, 6, 7, 8, 9]\n",
      "y=>[0, 1, 2, 3, 4, 5, 6, 7, 8, 9]\n",
      "z=>[0, 1, 2, 3, 4, 5, 6, 7, 8, 9, 10, 11, 12, 13, 14, 15, 16, 17, 18]\n"
     ]
    },
    {
     "name": "stderr",
     "output_type": "stream",
     "text": [
      "┌ Info: Backtracking is turned off.\n",
      "└ @ ConstraintSolver /root/.julia/packages/ConstraintSolver/PGUiU/src/ConstraintSolver.jl:808\n"
     ]
    }
   ],
   "source": [
    "function first_constraint()\n",
    "    m = Model(optimizer_with_attributes(CS.Optimizer, \"backtrack\"=>false))\n",
    "\n",
    "    @variable(m, 0 <= x <= 9, Int)\n",
    "    @variable(m, 0 <= y <= 9, Int)\n",
    "    @variable(m, 0 <= z <= 18, Int)\n",
    "\n",
    "    @constraint(m, z == x+y)\n",
    "\n",
    "    optimize!(m)\n",
    "\n",
    "    status = JuMP.termination_status(m)\n",
    "    println(\"Solving ended with $(status) status.\")\n",
    "    if status in [OPTIMAL, OTHER_LIMIT]\n",
    "        for v in [x, y, z]\n",
    "            println(name(v), \"=>\", CS.values(m, v))\n",
    "        end\n",
    "    else\n",
    "        println(\"No solution found.\")\n",
    "    end\n",
    "end\n",
    "\n",
    "first_constraint();"
   ]
  },
  {
   "cell_type": "markdown",
   "metadata": {
    "slideshow": {
     "slide_type": "slide"
    }
   },
   "source": [
    "### Constraint $z = 13$\n",
    "\n",
    "Solver was not able to reduce domains. Let's see what happens if I add next constraint."
   ]
  },
  {
   "cell_type": "code",
   "execution_count": 4,
   "metadata": {},
   "outputs": [
    {
     "name": "stdout",
     "output_type": "stream",
     "text": [
      "# Variables: 3\n",
      "# Constraints: 1\n",
      " - # Equality: 1\n",
      "\n",
      "Solving ended with OTHER_LIMIT status.\n",
      "x=>[9, 8, 7, 6, 4, 5]\n",
      "y=>[9, 8, 7, 6, 4, 5]\n",
      "z=>[13]\n"
     ]
    },
    {
     "name": "stderr",
     "output_type": "stream",
     "text": [
      "┌ Info: Backtracking is turned off.\n",
      "└ @ ConstraintSolver /root/.julia/packages/ConstraintSolver/PGUiU/src/ConstraintSolver.jl:808\n"
     ]
    }
   ],
   "source": [
    "function second_constraint()\n",
    "    m = Model(optimizer_with_attributes(CS.Optimizer, \"backtrack\"=>false))\n",
    "\n",
    "    @variable(m, 0 <= x <= 9, Int)\n",
    "    @variable(m, 0 <= y <= 9, Int)\n",
    "    @variable(m, 0 <= z <= 18, Int)\n",
    "\n",
    "    @constraint(m, z == x+y)\n",
    "    @constraint(m, z == 13)\n",
    "\n",
    "    optimize!(m)\n",
    "\n",
    "    status = JuMP.termination_status(m)\n",
    "    println(\"Solving ended with $(status) status.\")\n",
    "    if status in [OPTIMAL, OTHER_LIMIT]\n",
    "        for v in [x, y, z]\n",
    "            println(name(v), \"=>\", CS.values(m, v))\n",
    "        end\n",
    "    else\n",
    "        println(\"No solution found.\")\n",
    "    end\n",
    "end\n",
    "second_constraint();"
   ]
  },
  {
   "cell_type": "markdown",
   "metadata": {
    "slideshow": {
     "slide_type": "slide"
    }
   },
   "source": [
    "### Constraint $x < y - 4$\n",
    "\n",
    "Now solver was able to deduce that variables $x$ and $y$ must be greater than $4$.\n",
    "Let's see what happens if we add more constraints."
   ]
  },
  {
   "cell_type": "code",
   "execution_count": 5,
   "metadata": {},
   "outputs": [
    {
     "name": "stdout",
     "output_type": "stream",
     "text": [
      "# Variables: 3\n",
      "# Constraints: 2\n",
      " - # Equality: 1\n",
      " - # Inequality: 1\n",
      "\n",
      "Solving ended with OPTIMAL status.\n",
      "x=>[9]\n",
      "y=>[4]\n",
      "z=>[13]\n"
     ]
    }
   ],
   "source": [
    "function third_constraint()\n",
    "    m = Model(optimizer_with_attributes(CS.Optimizer, \"backtrack\"=>false))\n",
    "\n",
    "    @variable(m, 0 <= x <= 9, Int)\n",
    "    @variable(m, 0 <= y <= 9, Int)\n",
    "    @variable(m, 0 <= z <= 18, Int)\n",
    "\n",
    "\n",
    "    @constraint(m, z == x+y)\n",
    "    @constraint(m, z == 13)\n",
    "    @constraint(m, y < x - 4)\n",
    "    optimize!(m)\n",
    "\n",
    "    status = JuMP.termination_status(m)\n",
    "    println(\"Solving ended with $(status) status.\")\n",
    "    if status in [OPTIMAL, OTHER_LIMIT]\n",
    "        for v in [x, y, z]\n",
    "            println(name(v), \"=>\", CS.values(m, v))\n",
    "        end\n",
    "    else\n",
    "        println(\"No solution found.\")\n",
    "    end\n",
    "end\n",
    "\n",
    "third_constraint();"
   ]
  },
  {
   "cell_type": "markdown",
   "metadata": {
    "slideshow": {
     "slide_type": "slide"
    }
   },
   "source": [
    "### Summary\n",
    "\n",
    "As you could see the solver was able to reduce domains. Even to the solution just using propagation mechanizm."
   ]
  },
  {
   "cell_type": "markdown",
   "metadata": {
    "slideshow": {
     "slide_type": "slide"
    }
   },
   "source": [
    "## Labeling variables"
   ]
  },
  {
   "cell_type": "markdown",
   "metadata": {},
   "source": [
    "Now I will present how we can deal with the situation when propagation mechanism was not\n",
    "able to find solution.\n",
    "\n",
    "\n",
    "Suppose we wish to schedule six one-hour lectures, v1, v2, v3, v4, v5, v6.\n",
    "  Among the the potential audience there are people who **wish to hear both**\n",
    "\n",
    "   - v1 and v2\n",
    "   - v1 and v4\n",
    "   - v3 and v5\n",
    "   - v2 and v6\n",
    "   - v4 and v5\n",
    "   - v5 and v6\n",
    "   - v1 and v6\n",
    "\n",
    "  How many hours are necessary in order that the lectures can be given\n",
    "  without clashes?\n",
    "\n",
    "*Based on [http://hakank.org/julia/constraints/lectures.jl](http://hakank.org/julia/constraints/lectures.jl)*"
   ]
  },
  {
   "cell_type": "markdown",
   "metadata": {},
   "source": [
    "### First we will create a model for the lecture scheduling problem."
   ]
  },
  {
   "cell_type": "code",
   "execution_count": 6,
   "metadata": {},
   "outputs": [
    {
     "data": {
      "text/plain": [
       "labeling_variables_1 (generic function with 1 method)"
      ]
     },
     "metadata": {},
     "output_type": "display_data"
    }
   ],
   "source": [
    "function labeling_variables_1()\n",
    "    problem = [\n",
    "        (1, 2),\n",
    "        (1, 4),\n",
    "        (3, 5),\n",
    "        (2, 6),\n",
    "        (4, 5),\n",
    "        (5, 6),\n",
    "        (1, 6)\n",
    "    ]\n",
    "    n = size(problem)[1]\n",
    "\n",
    "    m = Model(optimizer_with_attributes(CS.Optimizer, \"backtrack\"=>false))\n",
    "\n",
    "    @variable(m, 1 <= lecture_time[1:n] <= n, Int)\n",
    "    @variable(m, 1 <= max_t <= n, Int)\n",
    "\n",
    "    for (lecture_a, lecture_b) in problem\n",
    "        @constraint(m, lecture_time[lecture_a] != lecture_time[lecture_b])\n",
    "    end\n",
    "\n",
    "    @constraint(m, lecture_time .<= max_t)\n",
    "\n",
    "    @objective(m, Min, max_t)\n",
    "\n",
    "    optimize!(m)\n",
    "\n",
    "    status = JuMP.termination_status(m)\n",
    "    println(\"Solving ended with $(status) status.\")\n",
    "    if status in [OPTIMAL, OTHER_LIMIT]\n",
    "        println(name(max_t), \"=>\", CS.values(m, max_t))\n",
    "        for i in 1:n\n",
    "            println(name(lecture_time[i]), \"=>\", CS.values(m, lecture_time[i]))\n",
    "        end\n",
    "    else\n",
    "        println(\"No solution found.\")\n",
    "    end\n",
    "end"
   ]
  },
  {
   "cell_type": "markdown",
   "metadata": {},
   "source": [
    "Let's see if solver can reduce domain of variables."
   ]
  },
  {
   "cell_type": "code",
   "execution_count": 7,
   "metadata": {},
   "outputs": [
    {
     "name": "stdout",
     "output_type": "stream",
     "text": [
      "# Variables: 8\n",
      "# Constraints: 14\n",
      " - # Inequality: 7\n",
      " - # Notequal: 7\n",
      "\n",
      "Added 1 new constraints\n",
      "Solving ended with OTHER_LIMIT status.\n",
      "max_t=>[1, 2, 3, 4, 5, 6, 7]\n",
      "lecture_time[1]=>[1, 2, 3, 4, 5, 6, 7]\n",
      "lecture_time[2]=>[1, 2, 3, 4, 5, 6, 7]\n",
      "lecture_time[3]=>[1, 2, 3, 4, 5, 6, 7]\n",
      "lecture_time[4]=>[1, 2, 3, 4, 5, 6, 7]\n",
      "lecture_time[5]=>[1, 2, 3, 4, 5, 6, 7]\n",
      "lecture_time[6]=>[1, 2, 3, 4, 5, 6, 7]\n",
      "lecture_time[7]=>[1, 2, 3, 4, 5, 6, 7]\n"
     ]
    },
    {
     "name": "stderr",
     "output_type": "stream",
     "text": [
      "┌ Info: Backtracking is turned off.\n",
      "└ @ ConstraintSolver /root/.julia/packages/ConstraintSolver/PGUiU/src/ConstraintSolver.jl:808\n"
     ]
    }
   ],
   "source": [
    "labeling_variables_1()"
   ]
  },
  {
   "cell_type": "markdown",
   "metadata": {},
   "source": [
    "As you can see solver was not able to reduce domains of any vairable"
   ]
  },
  {
   "cell_type": "markdown",
   "metadata": {},
   "source": [
    "### Now we will add labeling phase and compare two value selection strategies:"
   ]
  },
  {
   "cell_type": "markdown",
   "metadata": {},
   "source": [
    "* Start with smallest value possible\n",
    "* Start with larget value possible\n",
    "\n",
    "We will use default variable selection process that prioritize variables that are in objective formula, how often they lead to infeasibility and size of their domains.\n",
    "More info you can find [here](https://wikunia.github.io/ConstraintSolver.jl/stable/options/#:~:text=Options%3A-,%3AIMPS,-%3D%3E%20Infeasible%20and%20Minimum)"
   ]
  },
  {
   "cell_type": "code",
   "execution_count": 8,
   "metadata": {},
   "outputs": [
    {
     "data": {
      "text/plain": [
       "labeling_variables_2 (generic function with 1 method)"
      ]
     },
     "metadata": {},
     "output_type": "display_data"
    }
   ],
   "source": [
    "function labeling_variables_2(branch_split)\n",
    "    problem = [\n",
    "        (1, 2),\n",
    "        (1, 4),\n",
    "        (3, 5),\n",
    "        (2, 6),\n",
    "        (4, 5),\n",
    "        (5, 6),\n",
    "        (1, 6)\n",
    "    ]\n",
    "    n = size(problem)[1]\n",
    "\n",
    "    m = Model(optimizer_with_attributes(CS.Optimizer,\n",
    "                    \"traverse_strategy\"=>:BFS,\n",
    "                    \"branch_strategy\"=>:IMPS,\n",
    "                    \"branch_split\"=>branch_split,\n",
    "                    \"backtrack\"=>true))\n",
    "\n",
    "    @variable(m, 1 <= lecture_time[1:n] <= n, Int)\n",
    "    @variable(m, 1 <= max_t <= n, Int)\n",
    "\n",
    "    for (lecture_a, lecture_b) in problem\n",
    "        @constraint(m, lecture_time[lecture_a] != lecture_time[lecture_b])\n",
    "    end\n",
    "\n",
    "    @constraint(m, lecture_time .<= max_t)\n",
    "\n",
    "    @objective(m, Min, max_t)\n",
    "\n",
    "    optimize!(m)\n",
    "\n",
    "    status = JuMP.termination_status(m)\n",
    "    println(\"Solving ended with $(status) status.\")\n",
    "    if status in [OPTIMAL, OTHER_LIMIT]\n",
    "        println(name(max_t), \"=>\", CS.values(m, max_t))\n",
    "        for i in 1:n\n",
    "            println(name(lecture_time[i]), \"=>\", CS.values(m, lecture_time[i]))\n",
    "        end\n",
    "    else\n",
    "        println(\"No solution found.\")\n",
    "    end\n",
    "end"
   ]
  },
  {
   "cell_type": "markdown",
   "metadata": {},
   "source": [
    "### Smallest values first"
   ]
  },
  {
   "cell_type": "code",
   "execution_count": 9,
   "metadata": {},
   "outputs": [
    {
     "name": "stdout",
     "output_type": "stream",
     "text": [
      "# Variables: 8\n",
      "# Constraints: 14\n",
      " - # Inequality: 7\n",
      " - # Notequal: 7\n",
      "\n",
      "Added 1 new constraints\n",
      "  #Open    #Closed       Incumbent           Best Bound      Time [s] \n",
      "======================================================================\n",
      "    1         1              -                  2.00           0.14   \n",
      "    1         5              -                  3.00           0.38   \n",
      "    7         13            3.00                3.00           0.39   \n",
      "Solving ended with OPTIMAL status.\n",
      "max_t=>[3]\n",
      "lecture_time[1]=>[3]\n",
      "lecture_time[2]=>[2]\n",
      "lecture_time[3]=>[1]\n",
      "lecture_time[4]=>[1]\n",
      "lecture_time[5]=>[2]\n",
      "lecture_time[6]=>[1]\n",
      "lecture_time[7]=>[1]\n",
      "  0.450356 seconds (1.25 M allocations: 66.559 MiB, 3.32% gc time, 99.06% compilation time)\n"
     ]
    }
   ],
   "source": [
    "@time labeling_variables_2(:Smallest)"
   ]
  },
  {
   "cell_type": "markdown",
   "metadata": {},
   "source": [
    "### Biggest values first"
   ]
  },
  {
   "cell_type": "code",
   "execution_count": 10,
   "metadata": {},
   "outputs": [
    {
     "name": "stdout",
     "output_type": "stream",
     "text": [
      "# Variables: 8\n",
      "# Constraints: 14\n",
      " - # Inequality: 7\n",
      " - # Notequal: 7\n",
      "\n",
      "Added 1 new constraints\n",
      "  #Open    #Closed       Incumbent           Best Bound      Time [s] \n",
      "======================================================================\n",
      "    2         0              -                  1.00           0.04   \n",
      "    6         6              -                  2.00           0.04   \n",
      "    5         9              -                  3.00           0.04   \n",
      "    12        18            3.00                3.00           0.04   \n",
      "Solving ended with OPTIMAL status.\n",
      "max_t=>[3]\n",
      "lecture_time[1]=>[3]\n",
      "lecture_time[2]=>[2]\n",
      "lecture_time[3]=>[1]\n",
      "lecture_time[4]=>[1]\n",
      "lecture_time[5]=>[2]\n",
      "lecture_time[6]=>[1]\n",
      "lecture_time[7]=>[1]\n",
      "  0.039031 seconds (60.51 k allocations: 3.227 MiB, 94.27% compilation time)\n"
     ]
    }
   ],
   "source": [
    "@time labeling_variables_2(:Biggest)"
   ]
  },
  {
   "cell_type": "markdown",
   "metadata": {},
   "source": [
    "### Mean value to split domain in half"
   ]
  },
  {
   "cell_type": "code",
   "execution_count": 11,
   "metadata": {},
   "outputs": [
    {
     "name": "stdout",
     "output_type": "stream",
     "text": [
      "# Variables: 8\n",
      "# Constraints: 14\n",
      " - # Inequality: 7\n",
      " - # Notequal: 7\n",
      "\n",
      "Added 1 new constraints\n",
      "  #Open    #Closed       Incumbent           Best Bound      Time [s] \n",
      "======================================================================\n",
      "    2         0              -                  1.00           0.04   \n",
      "    3         3              -                  2.00           0.04   \n",
      "    2         6              -                  3.00           0.04   \n",
      "    10        16            3.00                3.00           0.04   \n",
      "Solving ended with OPTIMAL status.\n",
      "max_t=>[3]\n",
      "lecture_time[1]=>[3]\n",
      "lecture_time[2]=>[2]\n",
      "lecture_time[3]=>[1]\n",
      "lecture_time[4]=>[1]\n",
      "lecture_time[5]=>[2]\n",
      "lecture_time[6]=>[1]\n",
      "lecture_time[7]=>[1]\n",
      "  0.040740 seconds (118.16 k allocations: 6.160 MiB, 94.41% compilation time)\n"
     ]
    }
   ],
   "source": [
    "@time labeling_variables_2(:InHalf)"
   ]
  },
  {
   "cell_type": "markdown",
   "metadata": {},
   "source": [
    "---\n",
    "\n",
    "*This notebook was generated using [Literate.jl](https://github.com/fredrikekre/Literate.jl).*"
   ]
  }
 ],
 "metadata": {
  "kernelspec": {
   "display_name": "Julia 1.7.2",
   "language": "julia",
   "name": "julia-1.7"
  },
  "language_info": {
   "file_extension": ".jl",
   "mimetype": "application/julia",
   "name": "julia",
   "version": "1.7.2"
  }
 },
 "nbformat": 4,
 "nbformat_minor": 3
}
